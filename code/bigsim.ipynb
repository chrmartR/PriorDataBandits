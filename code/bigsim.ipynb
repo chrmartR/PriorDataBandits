{
 "cells": [
  {
   "cell_type": "code",
   "execution_count": 1,
   "id": "c19c7ab8-27d5-45da-b514-bcb83479dda9",
   "metadata": {},
   "outputs": [],
   "source": [
    "import numpy as np\n",
    "import pandas as pd\n",
    "from tqdm.notebook import tqdm\n",
    "import helpers.mab_bernoulli as brn\n",
    "import matplotlib.pyplot as plt"
   ]
  },
  {
   "cell_type": "code",
   "execution_count": 24,
   "id": "7db7b103-071a-4ad8-8ddc-3ae8b03e5cb7",
   "metadata": {},
   "outputs": [],
   "source": [
    "#parameter listing\n",
    "T = 5000 #simulation horizon\n",
    "K_list = np.arange(2, 16, 2) #number of arms\n",
    "delta_list = [0.2] #reward gap between best and worst arms\n",
    "data_amt_list = np.arange(0, 100, 5) #number of data points per arm\n",
    "num_samples = 20000"
   ]
  },
  {
   "cell_type": "code",
   "execution_count": null,
   "id": "46847aa2-3354-4caa-bfbf-a12a8c860a3d",
   "metadata": {},
   "outputs": [],
   "source": [
    "df_cols = [\"NumArms\", \"ArmGap\", \"ArmData\", \"NumSamples\"]\n",
    "c = list(range(1, T + 1))\n",
    "low_keys = [\"low_\"+str(n) for n in c]\n",
    "high_keys = [\"high_\"+str(n) for n in c]\n",
    "df_cols = df_cols + c + low_keys + high_keys\n",
    "fs_df = pd.DataFrame(columns=df_cols)\n",
    "ar_df = pd.DataFrame(columns=df_cols)"
   ]
  },
  {
   "cell_type": "code",
   "execution_count": 25,
   "id": "62fec354-a1b1-4c39-9855-a70e3868402b",
   "metadata": {},
   "outputs": [
    {
     "data": {
      "application/vnd.jupyter.widget-view+json": {
       "model_id": "2a16afe7aaa84fa9ae8648a99a6e187d",
       "version_major": 2,
       "version_minor": 0
      },
      "text/plain": [
       "Number of Arms:   0%|          | 0/7 [00:00<?, ?it/s]"
      ]
     },
     "metadata": {},
     "output_type": "display_data"
    },
    {
     "data": {
      "application/vnd.jupyter.widget-view+json": {
       "model_id": "",
       "version_major": 2,
       "version_minor": 0
      },
      "text/plain": [
       "Arm Gap:   0%|          | 0/1 [00:00<?, ?it/s]"
      ]
     },
     "metadata": {},
     "output_type": "display_data"
    },
    {
     "data": {
      "application/vnd.jupyter.widget-view+json": {
       "model_id": "",
       "version_major": 2,
       "version_minor": 0
      },
      "text/plain": [
       "Data per arm:   0%|          | 0/20 [00:00<?, ?it/s]"
      ]
     },
     "metadata": {},
     "output_type": "display_data"
    },
    {
     "data": {
      "application/vnd.jupyter.widget-view+json": {
       "model_id": "",
       "version_major": 2,
       "version_minor": 0
      },
      "text/plain": [
       "  0%|          | 0/20000 [00:00<?, ?it/s]"
      ]
     },
     "metadata": {},
     "output_type": "display_data"
    },
    {
     "data": {
      "application/vnd.jupyter.widget-view+json": {
       "model_id": "",
       "version_major": 2,
       "version_minor": 0
      },
      "text/plain": [
       "  0%|          | 0/20000 [00:00<?, ?it/s]"
      ]
     },
     "metadata": {},
     "output_type": "display_data"
    },
    {
     "data": {
      "application/vnd.jupyter.widget-view+json": {
       "model_id": "",
       "version_major": 2,
       "version_minor": 0
      },
      "text/plain": [
       "  0%|          | 0/20000 [00:00<?, ?it/s]"
      ]
     },
     "metadata": {},
     "output_type": "display_data"
    },
    {
     "data": {
      "application/vnd.jupyter.widget-view+json": {
       "model_id": "",
       "version_major": 2,
       "version_minor": 0
      },
      "text/plain": [
       "  0%|          | 0/20000 [00:00<?, ?it/s]"
      ]
     },
     "metadata": {},
     "output_type": "display_data"
    },
    {
     "data": {
      "application/vnd.jupyter.widget-view+json": {
       "model_id": "",
       "version_major": 2,
       "version_minor": 0
      },
      "text/plain": [
       "  0%|          | 0/20000 [00:00<?, ?it/s]"
      ]
     },
     "metadata": {},
     "output_type": "display_data"
    },
    {
     "data": {
      "application/vnd.jupyter.widget-view+json": {
       "model_id": "",
       "version_major": 2,
       "version_minor": 0
      },
      "text/plain": [
       "  0%|          | 0/20000 [00:00<?, ?it/s]"
      ]
     },
     "metadata": {},
     "output_type": "display_data"
    },
    {
     "data": {
      "application/vnd.jupyter.widget-view+json": {
       "model_id": "",
       "version_major": 2,
       "version_minor": 0
      },
      "text/plain": [
       "  0%|          | 0/20000 [00:00<?, ?it/s]"
      ]
     },
     "metadata": {},
     "output_type": "display_data"
    },
    {
     "data": {
      "application/vnd.jupyter.widget-view+json": {
       "model_id": "",
       "version_major": 2,
       "version_minor": 0
      },
      "text/plain": [
       "  0%|          | 0/20000 [00:00<?, ?it/s]"
      ]
     },
     "metadata": {},
     "output_type": "display_data"
    },
    {
     "data": {
      "application/vnd.jupyter.widget-view+json": {
       "model_id": "",
       "version_major": 2,
       "version_minor": 0
      },
      "text/plain": [
       "  0%|          | 0/20000 [00:00<?, ?it/s]"
      ]
     },
     "metadata": {},
     "output_type": "display_data"
    },
    {
     "data": {
      "application/vnd.jupyter.widget-view+json": {
       "model_id": "",
       "version_major": 2,
       "version_minor": 0
      },
      "text/plain": [
       "  0%|          | 0/20000 [00:00<?, ?it/s]"
      ]
     },
     "metadata": {},
     "output_type": "display_data"
    },
    {
     "data": {
      "application/vnd.jupyter.widget-view+json": {
       "model_id": "",
       "version_major": 2,
       "version_minor": 0
      },
      "text/plain": [
       "  0%|          | 0/20000 [00:00<?, ?it/s]"
      ]
     },
     "metadata": {},
     "output_type": "display_data"
    },
    {
     "data": {
      "application/vnd.jupyter.widget-view+json": {
       "model_id": "",
       "version_major": 2,
       "version_minor": 0
      },
      "text/plain": [
       "  0%|          | 0/20000 [00:00<?, ?it/s]"
      ]
     },
     "metadata": {},
     "output_type": "display_data"
    },
    {
     "data": {
      "application/vnd.jupyter.widget-view+json": {
       "model_id": "",
       "version_major": 2,
       "version_minor": 0
      },
      "text/plain": [
       "  0%|          | 0/20000 [00:00<?, ?it/s]"
      ]
     },
     "metadata": {},
     "output_type": "display_data"
    },
    {
     "data": {
      "application/vnd.jupyter.widget-view+json": {
       "model_id": "",
       "version_major": 2,
       "version_minor": 0
      },
      "text/plain": [
       "  0%|          | 0/20000 [00:00<?, ?it/s]"
      ]
     },
     "metadata": {},
     "output_type": "display_data"
    },
    {
     "data": {
      "application/vnd.jupyter.widget-view+json": {
       "model_id": "",
       "version_major": 2,
       "version_minor": 0
      },
      "text/plain": [
       "  0%|          | 0/20000 [00:00<?, ?it/s]"
      ]
     },
     "metadata": {},
     "output_type": "display_data"
    },
    {
     "data": {
      "application/vnd.jupyter.widget-view+json": {
       "model_id": "",
       "version_major": 2,
       "version_minor": 0
      },
      "text/plain": [
       "  0%|          | 0/20000 [00:00<?, ?it/s]"
      ]
     },
     "metadata": {},
     "output_type": "display_data"
    },
    {
     "data": {
      "application/vnd.jupyter.widget-view+json": {
       "model_id": "",
       "version_major": 2,
       "version_minor": 0
      },
      "text/plain": [
       "  0%|          | 0/20000 [00:00<?, ?it/s]"
      ]
     },
     "metadata": {},
     "output_type": "display_data"
    },
    {
     "data": {
      "application/vnd.jupyter.widget-view+json": {
       "model_id": "",
       "version_major": 2,
       "version_minor": 0
      },
      "text/plain": [
       "  0%|          | 0/20000 [00:00<?, ?it/s]"
      ]
     },
     "metadata": {},
     "output_type": "display_data"
    },
    {
     "data": {
      "application/vnd.jupyter.widget-view+json": {
       "model_id": "",
       "version_major": 2,
       "version_minor": 0
      },
      "text/plain": [
       "  0%|          | 0/20000 [00:00<?, ?it/s]"
      ]
     },
     "metadata": {},
     "output_type": "display_data"
    },
    {
     "data": {
      "application/vnd.jupyter.widget-view+json": {
       "model_id": "",
       "version_major": 2,
       "version_minor": 0
      },
      "text/plain": [
       "  0%|          | 0/20000 [00:00<?, ?it/s]"
      ]
     },
     "metadata": {},
     "output_type": "display_data"
    },
    {
     "data": {
      "application/vnd.jupyter.widget-view+json": {
       "model_id": "561a988edcf34af88b1d4914c1091bea",
       "version_major": 2,
       "version_minor": 0
      },
      "text/plain": [
       "Arm Gap:   0%|          | 0/1 [00:00<?, ?it/s]"
      ]
     },
     "metadata": {},
     "output_type": "display_data"
    },
    {
     "data": {
      "application/vnd.jupyter.widget-view+json": {
       "model_id": "1facbc86c0a74cedac473d5a940a05d5",
       "version_major": 2,
       "version_minor": 0
      },
      "text/plain": [
       "Data per arm:   0%|          | 0/20 [00:00<?, ?it/s]"
      ]
     },
     "metadata": {},
     "output_type": "display_data"
    },
    {
     "data": {
      "application/vnd.jupyter.widget-view+json": {
       "model_id": "",
       "version_major": 2,
       "version_minor": 0
      },
      "text/plain": [
       "  0%|          | 0/20000 [00:00<?, ?it/s]"
      ]
     },
     "metadata": {},
     "output_type": "display_data"
    },
    {
     "data": {
      "application/vnd.jupyter.widget-view+json": {
       "model_id": "",
       "version_major": 2,
       "version_minor": 0
      },
      "text/plain": [
       "  0%|          | 0/20000 [00:00<?, ?it/s]"
      ]
     },
     "metadata": {},
     "output_type": "display_data"
    },
    {
     "data": {
      "application/vnd.jupyter.widget-view+json": {
       "model_id": "",
       "version_major": 2,
       "version_minor": 0
      },
      "text/plain": [
       "  0%|          | 0/20000 [00:00<?, ?it/s]"
      ]
     },
     "metadata": {},
     "output_type": "display_data"
    },
    {
     "data": {
      "application/vnd.jupyter.widget-view+json": {
       "model_id": "",
       "version_major": 2,
       "version_minor": 0
      },
      "text/plain": [
       "  0%|          | 0/20000 [00:00<?, ?it/s]"
      ]
     },
     "metadata": {},
     "output_type": "display_data"
    },
    {
     "data": {
      "application/vnd.jupyter.widget-view+json": {
       "model_id": "",
       "version_major": 2,
       "version_minor": 0
      },
      "text/plain": [
       "  0%|          | 0/20000 [00:00<?, ?it/s]"
      ]
     },
     "metadata": {},
     "output_type": "display_data"
    },
    {
     "data": {
      "application/vnd.jupyter.widget-view+json": {
       "model_id": "",
       "version_major": 2,
       "version_minor": 0
      },
      "text/plain": [
       "  0%|          | 0/20000 [00:00<?, ?it/s]"
      ]
     },
     "metadata": {},
     "output_type": "display_data"
    },
    {
     "data": {
      "application/vnd.jupyter.widget-view+json": {
       "model_id": "9648600ae5874984a2ac3e35dd301f1e",
       "version_major": 2,
       "version_minor": 0
      },
      "text/plain": [
       "  0%|          | 0/20000 [00:00<?, ?it/s]"
      ]
     },
     "metadata": {},
     "output_type": "display_data"
    },
    {
     "ename": "KeyboardInterrupt",
     "evalue": "",
     "output_type": "error",
     "traceback": [
      "\u001b[1;31m---------------------------------------------------------------------------\u001b[0m",
      "\u001b[1;31mKeyboardInterrupt\u001b[0m                         Traceback (most recent call last)",
      "Cell \u001b[1;32mIn[25], line 25\u001b[0m\n\u001b[0;32m     22\u001b[0m     fs_regrets \u001b[38;5;241m=\u001b[39m opt_mean \u001b[38;5;241m-\u001b[39m np\u001b[38;5;241m.\u001b[39marray(fs_rewards)\n\u001b[0;32m     23\u001b[0m     ar_regrets \u001b[38;5;241m=\u001b[39m opt_mean \u001b[38;5;241m-\u001b[39m np\u001b[38;5;241m.\u001b[39marray(ar_rewards)\n\u001b[1;32m---> 25\u001b[0m     regret_vecs[\u001b[38;5;241m0\u001b[39m][i] \u001b[38;5;241m=\u001b[39m \u001b[43mnp\u001b[49m\u001b[38;5;241;43m.\u001b[39;49m\u001b[43mcumsum\u001b[49m\u001b[43m(\u001b[49m\u001b[43mfs_regrets\u001b[49m\u001b[43m)\u001b[49m\n\u001b[0;32m     26\u001b[0m     regret_vecs[\u001b[38;5;241m1\u001b[39m][i] \u001b[38;5;241m=\u001b[39m np\u001b[38;5;241m.\u001b[39mcumsum(ar_regrets)\n\u001b[0;32m     28\u001b[0m avgs \u001b[38;5;241m=\u001b[39m np\u001b[38;5;241m.\u001b[39mmean(regret_vecs, axis\u001b[38;5;241m=\u001b[39m\u001b[38;5;241m1\u001b[39m)\n",
      "File \u001b[1;32m~\\AppData\\Local\\Programs\\Python\\Python312\\Lib\\site-packages\\numpy\\_core\\fromnumeric.py:2980\u001b[0m, in \u001b[0;36mcumsum\u001b[1;34m(a, axis, dtype, out)\u001b[0m\n\u001b[0;32m   2904\u001b[0m \u001b[38;5;129m@array_function_dispatch\u001b[39m(_cumsum_dispatcher)\n\u001b[0;32m   2905\u001b[0m \u001b[38;5;28;01mdef\u001b[39;00m \u001b[38;5;21mcumsum\u001b[39m(a, axis\u001b[38;5;241m=\u001b[39m\u001b[38;5;28;01mNone\u001b[39;00m, dtype\u001b[38;5;241m=\u001b[39m\u001b[38;5;28;01mNone\u001b[39;00m, out\u001b[38;5;241m=\u001b[39m\u001b[38;5;28;01mNone\u001b[39;00m):\n\u001b[0;32m   2906\u001b[0m \u001b[38;5;250m    \u001b[39m\u001b[38;5;124;03m\"\"\"\u001b[39;00m\n\u001b[0;32m   2907\u001b[0m \u001b[38;5;124;03m    Return the cumulative sum of the elements along a given axis.\u001b[39;00m\n\u001b[0;32m   2908\u001b[0m \n\u001b[1;32m   (...)\u001b[0m\n\u001b[0;32m   2978\u001b[0m \n\u001b[0;32m   2979\u001b[0m \u001b[38;5;124;03m    \"\"\"\u001b[39;00m\n\u001b[1;32m-> 2980\u001b[0m     \u001b[38;5;28;01mreturn\u001b[39;00m \u001b[43m_wrapfunc\u001b[49m\u001b[43m(\u001b[49m\u001b[43ma\u001b[49m\u001b[43m,\u001b[49m\u001b[43m \u001b[49m\u001b[38;5;124;43m'\u001b[39;49m\u001b[38;5;124;43mcumsum\u001b[39;49m\u001b[38;5;124;43m'\u001b[39;49m\u001b[43m,\u001b[49m\u001b[43m \u001b[49m\u001b[43maxis\u001b[49m\u001b[38;5;241;43m=\u001b[39;49m\u001b[43maxis\u001b[49m\u001b[43m,\u001b[49m\u001b[43m \u001b[49m\u001b[43mdtype\u001b[49m\u001b[38;5;241;43m=\u001b[39;49m\u001b[43mdtype\u001b[49m\u001b[43m,\u001b[49m\u001b[43m \u001b[49m\u001b[43mout\u001b[49m\u001b[38;5;241;43m=\u001b[39;49m\u001b[43mout\u001b[49m\u001b[43m)\u001b[49m\n",
      "File \u001b[1;32m~\\AppData\\Local\\Programs\\Python\\Python312\\Lib\\site-packages\\numpy\\_core\\fromnumeric.py:57\u001b[0m, in \u001b[0;36m_wrapfunc\u001b[1;34m(obj, method, *args, **kwds)\u001b[0m\n\u001b[0;32m     54\u001b[0m     \u001b[38;5;28;01mreturn\u001b[39;00m _wrapit(obj, method, \u001b[38;5;241m*\u001b[39margs, \u001b[38;5;241m*\u001b[39m\u001b[38;5;241m*\u001b[39mkwds)\n\u001b[0;32m     56\u001b[0m \u001b[38;5;28;01mtry\u001b[39;00m:\n\u001b[1;32m---> 57\u001b[0m     \u001b[38;5;28;01mreturn\u001b[39;00m \u001b[43mbound\u001b[49m\u001b[43m(\u001b[49m\u001b[38;5;241;43m*\u001b[39;49m\u001b[43margs\u001b[49m\u001b[43m,\u001b[49m\u001b[43m \u001b[49m\u001b[38;5;241;43m*\u001b[39;49m\u001b[38;5;241;43m*\u001b[39;49m\u001b[43mkwds\u001b[49m\u001b[43m)\u001b[49m\n\u001b[0;32m     58\u001b[0m \u001b[38;5;28;01mexcept\u001b[39;00m \u001b[38;5;167;01mTypeError\u001b[39;00m:\n\u001b[0;32m     59\u001b[0m     \u001b[38;5;66;03m# A TypeError occurs if the object does have such a method in its\u001b[39;00m\n\u001b[0;32m     60\u001b[0m     \u001b[38;5;66;03m# class, but its signature is not identical to that of NumPy's. This\u001b[39;00m\n\u001b[1;32m   (...)\u001b[0m\n\u001b[0;32m     64\u001b[0m     \u001b[38;5;66;03m# Call _wrapit from within the except clause to ensure a potential\u001b[39;00m\n\u001b[0;32m     65\u001b[0m     \u001b[38;5;66;03m# exception has a traceback chain.\u001b[39;00m\n\u001b[0;32m     66\u001b[0m     \u001b[38;5;28;01mreturn\u001b[39;00m _wrapit(obj, method, \u001b[38;5;241m*\u001b[39margs, \u001b[38;5;241m*\u001b[39m\u001b[38;5;241m*\u001b[39mkwds)\n",
      "\u001b[1;31mKeyboardInterrupt\u001b[0m: "
     ]
    }
   ],
   "source": [
    "for K in tqdm(K_list, desc = \"Number of Arms\"):\n",
    "    for delta in tqdm(delta_list, leave = False, desc = \"Arm Gap\"):\n",
    "        arms = [0.5 - delta/2 for _ in range(K-1)]\n",
    "        opt_mean = 0.5 + delta / 2\n",
    "        arms.append(opt_mean)\n",
    "        for data_amt in tqdm(data_amt_list, leave = False, desc = \"Data per arm\"):\n",
    "\n",
    "            regret_vecs = [np.zeros((num_samples, T)) for _ in range(2)]\n",
    "            for i in tqdm(range(num_samples), leave = False):\n",
    "                arm_data = [brn.gen_data(arms[i], data_amt) for i in range(K)]\n",
    "                fs_rewards = brn.FS_path(T, arms, brn.flat_priors(K), arm_data)\n",
    "                ar_rewards = brn.AR_path(T, arms, brn.flat_priors(K), arm_data)\n",
    "\n",
    "                fs_regrets = opt_mean - np.array(fs_rewards)\n",
    "                ar_regrets = opt_mean - np.array(ar_rewards)\n",
    "\n",
    "                regret_vecs[0][i] = np.cumsum(fs_regrets)\n",
    "                regret_vecs[1][i] = np.cumsum(ar_regrets)\n",
    "\n",
    "            avgs = np.mean(regret_vecs, axis=1)\n",
    "            lower_CBs = avgs-2*np.std(regret_vecs,axis=1)/np.sqrt(num_samples)\n",
    "            upper_CBs = avgs+2*np.std(regret_vecs,axis=1)/np.sqrt(num_samples)\n",
    "\n",
    "            fs_df.loc[len(fs_df)] = [K, delta, data_amt, num_samples] + list(avgs[0]) + list(lower_CBs[0]) + list(upper_CBs[0])\n",
    "            ar_df.loc[len(ar_df)] = [K, delta, data_amt, num_samples] + list(avgs[1]) + list(lower_CBs[1]) + list(upper_CBs[1])"
   ]
  },
  {
   "cell_type": "code",
   "execution_count": 26,
   "id": "a2d15d1a-028b-423f-a302-6674c069e083",
   "metadata": {},
   "outputs": [
    {
     "data": {
      "text/html": [
       "<div>\n",
       "<style scoped>\n",
       "    .dataframe tbody tr th:only-of-type {\n",
       "        vertical-align: middle;\n",
       "    }\n",
       "\n",
       "    .dataframe tbody tr th {\n",
       "        vertical-align: top;\n",
       "    }\n",
       "\n",
       "    .dataframe thead th {\n",
       "        text-align: right;\n",
       "    }\n",
       "</style>\n",
       "<table border=\"1\" class=\"dataframe\">\n",
       "  <thead>\n",
       "    <tr style=\"text-align: right;\">\n",
       "      <th></th>\n",
       "      <th>NumArms</th>\n",
       "      <th>ArmGap</th>\n",
       "      <th>ArmData</th>\n",
       "      <th>NumSamples</th>\n",
       "      <th>1</th>\n",
       "      <th>2</th>\n",
       "      <th>3</th>\n",
       "      <th>4</th>\n",
       "      <th>5</th>\n",
       "      <th>6</th>\n",
       "      <th>...</th>\n",
       "      <th>high_4991</th>\n",
       "      <th>high_4992</th>\n",
       "      <th>high_4993</th>\n",
       "      <th>high_4994</th>\n",
       "      <th>high_4995</th>\n",
       "      <th>high_4996</th>\n",
       "      <th>high_4997</th>\n",
       "      <th>high_4998</th>\n",
       "      <th>high_4999</th>\n",
       "      <th>high_5000</th>\n",
       "    </tr>\n",
       "  </thead>\n",
       "  <tbody>\n",
       "    <tr>\n",
       "      <th>0</th>\n",
       "      <td>2.0</td>\n",
       "      <td>0.2</td>\n",
       "      <td>0.0</td>\n",
       "      <td>20000.0</td>\n",
       "      <td>0.10305</td>\n",
       "      <td>0.19275</td>\n",
       "      <td>0.28040</td>\n",
       "      <td>0.36300</td>\n",
       "      <td>0.45100</td>\n",
       "      <td>0.52535</td>\n",
       "      <td>...</td>\n",
       "      <td>11.329212</td>\n",
       "      <td>11.336390</td>\n",
       "      <td>11.331847</td>\n",
       "      <td>11.331856</td>\n",
       "      <td>11.327146</td>\n",
       "      <td>11.319418</td>\n",
       "      <td>11.322226</td>\n",
       "      <td>11.324416</td>\n",
       "      <td>11.320070</td>\n",
       "      <td>11.319073</td>\n",
       "    </tr>\n",
       "    <tr>\n",
       "      <th>1</th>\n",
       "      <td>2.0</td>\n",
       "      <td>0.2</td>\n",
       "      <td>5.0</td>\n",
       "      <td>20000.0</td>\n",
       "      <td>0.06570</td>\n",
       "      <td>0.13045</td>\n",
       "      <td>0.19565</td>\n",
       "      <td>0.26775</td>\n",
       "      <td>0.32720</td>\n",
       "      <td>0.38290</td>\n",
       "      <td>...</td>\n",
       "      <td>10.268495</td>\n",
       "      <td>10.274069</td>\n",
       "      <td>10.275897</td>\n",
       "      <td>10.281950</td>\n",
       "      <td>10.283829</td>\n",
       "      <td>10.277579</td>\n",
       "      <td>10.276563</td>\n",
       "      <td>10.275309</td>\n",
       "      <td>10.276945</td>\n",
       "      <td>10.276038</td>\n",
       "    </tr>\n",
       "    <tr>\n",
       "      <th>2</th>\n",
       "      <td>2.0</td>\n",
       "      <td>0.2</td>\n",
       "      <td>10.0</td>\n",
       "      <td>20000.0</td>\n",
       "      <td>0.05330</td>\n",
       "      <td>0.10680</td>\n",
       "      <td>0.15295</td>\n",
       "      <td>0.20775</td>\n",
       "      <td>0.26230</td>\n",
       "      <td>0.30925</td>\n",
       "      <td>...</td>\n",
       "      <td>9.752596</td>\n",
       "      <td>9.749942</td>\n",
       "      <td>9.748894</td>\n",
       "      <td>9.753722</td>\n",
       "      <td>9.755476</td>\n",
       "      <td>9.756147</td>\n",
       "      <td>9.750386</td>\n",
       "      <td>9.749071</td>\n",
       "      <td>9.748872</td>\n",
       "      <td>9.748723</td>\n",
       "    </tr>\n",
       "    <tr>\n",
       "      <th>3</th>\n",
       "      <td>2.0</td>\n",
       "      <td>0.2</td>\n",
       "      <td>15.0</td>\n",
       "      <td>20000.0</td>\n",
       "      <td>0.04435</td>\n",
       "      <td>0.08650</td>\n",
       "      <td>0.12630</td>\n",
       "      <td>0.16725</td>\n",
       "      <td>0.21590</td>\n",
       "      <td>0.25555</td>\n",
       "      <td>...</td>\n",
       "      <td>8.475747</td>\n",
       "      <td>8.475325</td>\n",
       "      <td>8.478413</td>\n",
       "      <td>8.474076</td>\n",
       "      <td>8.476498</td>\n",
       "      <td>8.478826</td>\n",
       "      <td>8.473253</td>\n",
       "      <td>8.471882</td>\n",
       "      <td>8.473843</td>\n",
       "      <td>8.472562</td>\n",
       "    </tr>\n",
       "    <tr>\n",
       "      <th>4</th>\n",
       "      <td>2.0</td>\n",
       "      <td>0.2</td>\n",
       "      <td>20.0</td>\n",
       "      <td>20000.0</td>\n",
       "      <td>0.04190</td>\n",
       "      <td>0.07645</td>\n",
       "      <td>0.10550</td>\n",
       "      <td>0.13825</td>\n",
       "      <td>0.17145</td>\n",
       "      <td>0.20125</td>\n",
       "      <td>...</td>\n",
       "      <td>8.095993</td>\n",
       "      <td>8.097309</td>\n",
       "      <td>8.101420</td>\n",
       "      <td>8.102856</td>\n",
       "      <td>8.100521</td>\n",
       "      <td>8.108739</td>\n",
       "      <td>8.110408</td>\n",
       "      <td>8.104582</td>\n",
       "      <td>8.107620</td>\n",
       "      <td>8.107545</td>\n",
       "    </tr>\n",
       "    <tr>\n",
       "      <th>5</th>\n",
       "      <td>2.0</td>\n",
       "      <td>0.2</td>\n",
       "      <td>25.0</td>\n",
       "      <td>20000.0</td>\n",
       "      <td>0.03125</td>\n",
       "      <td>0.05805</td>\n",
       "      <td>0.08795</td>\n",
       "      <td>0.11810</td>\n",
       "      <td>0.14735</td>\n",
       "      <td>0.17285</td>\n",
       "      <td>...</td>\n",
       "      <td>7.169832</td>\n",
       "      <td>7.174229</td>\n",
       "      <td>7.169668</td>\n",
       "      <td>7.171941</td>\n",
       "      <td>7.178371</td>\n",
       "      <td>7.177277</td>\n",
       "      <td>7.178699</td>\n",
       "      <td>7.178321</td>\n",
       "      <td>7.177985</td>\n",
       "      <td>7.179183</td>\n",
       "    </tr>\n",
       "    <tr>\n",
       "      <th>6</th>\n",
       "      <td>2.0</td>\n",
       "      <td>0.2</td>\n",
       "      <td>30.0</td>\n",
       "      <td>20000.0</td>\n",
       "      <td>0.02510</td>\n",
       "      <td>0.04600</td>\n",
       "      <td>0.07055</td>\n",
       "      <td>0.09435</td>\n",
       "      <td>0.11630</td>\n",
       "      <td>0.14815</td>\n",
       "      <td>...</td>\n",
       "      <td>6.095670</td>\n",
       "      <td>6.102188</td>\n",
       "      <td>6.110151</td>\n",
       "      <td>6.110310</td>\n",
       "      <td>6.108725</td>\n",
       "      <td>6.107527</td>\n",
       "      <td>6.107236</td>\n",
       "      <td>6.103886</td>\n",
       "      <td>6.106237</td>\n",
       "      <td>6.113290</td>\n",
       "    </tr>\n",
       "    <tr>\n",
       "      <th>7</th>\n",
       "      <td>2.0</td>\n",
       "      <td>0.2</td>\n",
       "      <td>35.0</td>\n",
       "      <td>20000.0</td>\n",
       "      <td>0.02025</td>\n",
       "      <td>0.04060</td>\n",
       "      <td>0.06180</td>\n",
       "      <td>0.08190</td>\n",
       "      <td>0.10460</td>\n",
       "      <td>0.13070</td>\n",
       "      <td>...</td>\n",
       "      <td>5.793631</td>\n",
       "      <td>5.791822</td>\n",
       "      <td>5.796076</td>\n",
       "      <td>5.795077</td>\n",
       "      <td>5.800900</td>\n",
       "      <td>5.801757</td>\n",
       "      <td>5.804984</td>\n",
       "      <td>5.808999</td>\n",
       "      <td>5.811526</td>\n",
       "      <td>5.811959</td>\n",
       "    </tr>\n",
       "    <tr>\n",
       "      <th>8</th>\n",
       "      <td>2.0</td>\n",
       "      <td>0.2</td>\n",
       "      <td>40.0</td>\n",
       "      <td>20000.0</td>\n",
       "      <td>0.02185</td>\n",
       "      <td>0.04170</td>\n",
       "      <td>0.05520</td>\n",
       "      <td>0.07195</td>\n",
       "      <td>0.09235</td>\n",
       "      <td>0.11285</td>\n",
       "      <td>...</td>\n",
       "      <td>5.152256</td>\n",
       "      <td>5.155772</td>\n",
       "      <td>5.159137</td>\n",
       "      <td>5.158810</td>\n",
       "      <td>5.162310</td>\n",
       "      <td>5.161293</td>\n",
       "      <td>5.157842</td>\n",
       "      <td>5.161647</td>\n",
       "      <td>5.157151</td>\n",
       "      <td>5.157544</td>\n",
       "    </tr>\n",
       "    <tr>\n",
       "      <th>9</th>\n",
       "      <td>2.0</td>\n",
       "      <td>0.2</td>\n",
       "      <td>45.0</td>\n",
       "      <td>20000.0</td>\n",
       "      <td>0.01690</td>\n",
       "      <td>0.03760</td>\n",
       "      <td>0.05260</td>\n",
       "      <td>0.07265</td>\n",
       "      <td>0.08955</td>\n",
       "      <td>0.10815</td>\n",
       "      <td>...</td>\n",
       "      <td>4.600459</td>\n",
       "      <td>4.601214</td>\n",
       "      <td>4.603472</td>\n",
       "      <td>4.604263</td>\n",
       "      <td>4.610652</td>\n",
       "      <td>4.613419</td>\n",
       "      <td>4.615099</td>\n",
       "      <td>4.612097</td>\n",
       "      <td>4.610729</td>\n",
       "      <td>4.613492</td>\n",
       "    </tr>\n",
       "    <tr>\n",
       "      <th>10</th>\n",
       "      <td>2.0</td>\n",
       "      <td>0.2</td>\n",
       "      <td>50.0</td>\n",
       "      <td>20000.0</td>\n",
       "      <td>0.01530</td>\n",
       "      <td>0.03510</td>\n",
       "      <td>0.05205</td>\n",
       "      <td>0.06845</td>\n",
       "      <td>0.08130</td>\n",
       "      <td>0.09830</td>\n",
       "      <td>...</td>\n",
       "      <td>4.346613</td>\n",
       "      <td>4.346957</td>\n",
       "      <td>4.343338</td>\n",
       "      <td>4.353409</td>\n",
       "      <td>4.351776</td>\n",
       "      <td>4.352466</td>\n",
       "      <td>4.354734</td>\n",
       "      <td>4.358598</td>\n",
       "      <td>4.356998</td>\n",
       "      <td>4.360748</td>\n",
       "    </tr>\n",
       "    <tr>\n",
       "      <th>11</th>\n",
       "      <td>2.0</td>\n",
       "      <td>0.2</td>\n",
       "      <td>55.0</td>\n",
       "      <td>20000.0</td>\n",
       "      <td>0.01735</td>\n",
       "      <td>0.03365</td>\n",
       "      <td>0.04930</td>\n",
       "      <td>0.06315</td>\n",
       "      <td>0.07140</td>\n",
       "      <td>0.08125</td>\n",
       "      <td>...</td>\n",
       "      <td>4.141548</td>\n",
       "      <td>4.138203</td>\n",
       "      <td>4.140261</td>\n",
       "      <td>4.139173</td>\n",
       "      <td>4.139010</td>\n",
       "      <td>4.141227</td>\n",
       "      <td>4.145370</td>\n",
       "      <td>4.145488</td>\n",
       "      <td>4.145632</td>\n",
       "      <td>4.146159</td>\n",
       "    </tr>\n",
       "    <tr>\n",
       "      <th>12</th>\n",
       "      <td>2.0</td>\n",
       "      <td>0.2</td>\n",
       "      <td>60.0</td>\n",
       "      <td>20000.0</td>\n",
       "      <td>0.01240</td>\n",
       "      <td>0.02080</td>\n",
       "      <td>0.03410</td>\n",
       "      <td>0.04270</td>\n",
       "      <td>0.05500</td>\n",
       "      <td>0.06450</td>\n",
       "      <td>...</td>\n",
       "      <td>3.615221</td>\n",
       "      <td>3.613734</td>\n",
       "      <td>3.611680</td>\n",
       "      <td>3.614021</td>\n",
       "      <td>3.608752</td>\n",
       "      <td>3.610483</td>\n",
       "      <td>3.607094</td>\n",
       "      <td>3.608337</td>\n",
       "      <td>3.612503</td>\n",
       "      <td>3.615585</td>\n",
       "    </tr>\n",
       "    <tr>\n",
       "      <th>13</th>\n",
       "      <td>2.0</td>\n",
       "      <td>0.2</td>\n",
       "      <td>65.0</td>\n",
       "      <td>20000.0</td>\n",
       "      <td>0.01140</td>\n",
       "      <td>0.02290</td>\n",
       "      <td>0.03440</td>\n",
       "      <td>0.04940</td>\n",
       "      <td>0.06305</td>\n",
       "      <td>0.07215</td>\n",
       "      <td>...</td>\n",
       "      <td>2.988397</td>\n",
       "      <td>2.990354</td>\n",
       "      <td>2.989765</td>\n",
       "      <td>2.982991</td>\n",
       "      <td>2.976992</td>\n",
       "      <td>2.979093</td>\n",
       "      <td>2.977038</td>\n",
       "      <td>2.972361</td>\n",
       "      <td>2.979222</td>\n",
       "      <td>2.978036</td>\n",
       "    </tr>\n",
       "    <tr>\n",
       "      <th>14</th>\n",
       "      <td>2.0</td>\n",
       "      <td>0.2</td>\n",
       "      <td>70.0</td>\n",
       "      <td>20000.0</td>\n",
       "      <td>0.00715</td>\n",
       "      <td>0.02585</td>\n",
       "      <td>0.04235</td>\n",
       "      <td>0.04610</td>\n",
       "      <td>0.05530</td>\n",
       "      <td>0.06690</td>\n",
       "      <td>...</td>\n",
       "      <td>2.717559</td>\n",
       "      <td>2.717820</td>\n",
       "      <td>2.713087</td>\n",
       "      <td>2.707609</td>\n",
       "      <td>2.705807</td>\n",
       "      <td>2.707922</td>\n",
       "      <td>2.706071</td>\n",
       "      <td>2.706202</td>\n",
       "      <td>2.712256</td>\n",
       "      <td>2.718072</td>\n",
       "    </tr>\n",
       "    <tr>\n",
       "      <th>15</th>\n",
       "      <td>2.0</td>\n",
       "      <td>0.2</td>\n",
       "      <td>75.0</td>\n",
       "      <td>20000.0</td>\n",
       "      <td>0.00915</td>\n",
       "      <td>0.02095</td>\n",
       "      <td>0.03075</td>\n",
       "      <td>0.04445</td>\n",
       "      <td>0.05415</td>\n",
       "      <td>0.06085</td>\n",
       "      <td>...</td>\n",
       "      <td>2.774910</td>\n",
       "      <td>2.782262</td>\n",
       "      <td>2.781467</td>\n",
       "      <td>2.786423</td>\n",
       "      <td>2.786716</td>\n",
       "      <td>2.788883</td>\n",
       "      <td>2.792392</td>\n",
       "      <td>2.791188</td>\n",
       "      <td>2.787805</td>\n",
       "      <td>2.791937</td>\n",
       "    </tr>\n",
       "    <tr>\n",
       "      <th>16</th>\n",
       "      <td>2.0</td>\n",
       "      <td>0.2</td>\n",
       "      <td>80.0</td>\n",
       "      <td>20000.0</td>\n",
       "      <td>-0.00275</td>\n",
       "      <td>0.00315</td>\n",
       "      <td>0.00935</td>\n",
       "      <td>0.01785</td>\n",
       "      <td>0.02600</td>\n",
       "      <td>0.03210</td>\n",
       "      <td>...</td>\n",
       "      <td>2.009240</td>\n",
       "      <td>2.007284</td>\n",
       "      <td>2.010899</td>\n",
       "      <td>2.015729</td>\n",
       "      <td>2.015129</td>\n",
       "      <td>2.016482</td>\n",
       "      <td>2.018137</td>\n",
       "      <td>2.016193</td>\n",
       "      <td>2.018459</td>\n",
       "      <td>2.023753</td>\n",
       "    </tr>\n",
       "    <tr>\n",
       "      <th>17</th>\n",
       "      <td>2.0</td>\n",
       "      <td>0.2</td>\n",
       "      <td>85.0</td>\n",
       "      <td>20000.0</td>\n",
       "      <td>0.00390</td>\n",
       "      <td>0.00430</td>\n",
       "      <td>0.00830</td>\n",
       "      <td>0.01715</td>\n",
       "      <td>0.02060</td>\n",
       "      <td>0.03050</td>\n",
       "      <td>...</td>\n",
       "      <td>1.798546</td>\n",
       "      <td>1.803943</td>\n",
       "      <td>1.807560</td>\n",
       "      <td>1.812520</td>\n",
       "      <td>1.812436</td>\n",
       "      <td>1.814992</td>\n",
       "      <td>1.816756</td>\n",
       "      <td>1.815339</td>\n",
       "      <td>1.819050</td>\n",
       "      <td>1.816093</td>\n",
       "    </tr>\n",
       "    <tr>\n",
       "      <th>18</th>\n",
       "      <td>2.0</td>\n",
       "      <td>0.2</td>\n",
       "      <td>90.0</td>\n",
       "      <td>20000.0</td>\n",
       "      <td>0.00620</td>\n",
       "      <td>0.00885</td>\n",
       "      <td>0.01880</td>\n",
       "      <td>0.02105</td>\n",
       "      <td>0.03255</td>\n",
       "      <td>0.03835</td>\n",
       "      <td>...</td>\n",
       "      <td>2.034373</td>\n",
       "      <td>2.033315</td>\n",
       "      <td>2.035411</td>\n",
       "      <td>2.034425</td>\n",
       "      <td>2.030780</td>\n",
       "      <td>2.031309</td>\n",
       "      <td>2.036481</td>\n",
       "      <td>2.035764</td>\n",
       "      <td>2.034805</td>\n",
       "      <td>2.037815</td>\n",
       "    </tr>\n",
       "    <tr>\n",
       "      <th>19</th>\n",
       "      <td>2.0</td>\n",
       "      <td>0.2</td>\n",
       "      <td>95.0</td>\n",
       "      <td>20000.0</td>\n",
       "      <td>0.00610</td>\n",
       "      <td>0.01380</td>\n",
       "      <td>0.02245</td>\n",
       "      <td>0.02790</td>\n",
       "      <td>0.03530</td>\n",
       "      <td>0.04215</td>\n",
       "      <td>...</td>\n",
       "      <td>1.693386</td>\n",
       "      <td>1.694859</td>\n",
       "      <td>1.697201</td>\n",
       "      <td>1.698896</td>\n",
       "      <td>1.700453</td>\n",
       "      <td>1.702946</td>\n",
       "      <td>1.706870</td>\n",
       "      <td>1.704882</td>\n",
       "      <td>1.698105</td>\n",
       "      <td>1.694650</td>\n",
       "    </tr>\n",
       "    <tr>\n",
       "      <th>20</th>\n",
       "      <td>4.0</td>\n",
       "      <td>0.2</td>\n",
       "      <td>0.0</td>\n",
       "      <td>20000.0</td>\n",
       "      <td>0.14740</td>\n",
       "      <td>0.29045</td>\n",
       "      <td>0.42850</td>\n",
       "      <td>0.57080</td>\n",
       "      <td>0.71000</td>\n",
       "      <td>0.84405</td>\n",
       "      <td>...</td>\n",
       "      <td>32.844908</td>\n",
       "      <td>32.843569</td>\n",
       "      <td>32.839662</td>\n",
       "      <td>32.836484</td>\n",
       "      <td>32.836764</td>\n",
       "      <td>32.842168</td>\n",
       "      <td>32.845182</td>\n",
       "      <td>32.849826</td>\n",
       "      <td>32.853094</td>\n",
       "      <td>32.858831</td>\n",
       "    </tr>\n",
       "    <tr>\n",
       "      <th>21</th>\n",
       "      <td>4.0</td>\n",
       "      <td>0.2</td>\n",
       "      <td>5.0</td>\n",
       "      <td>20000.0</td>\n",
       "      <td>0.10910</td>\n",
       "      <td>0.21580</td>\n",
       "      <td>0.32915</td>\n",
       "      <td>0.44125</td>\n",
       "      <td>0.54740</td>\n",
       "      <td>0.66050</td>\n",
       "      <td>...</td>\n",
       "      <td>30.159449</td>\n",
       "      <td>30.159208</td>\n",
       "      <td>30.162644</td>\n",
       "      <td>30.160067</td>\n",
       "      <td>30.162339</td>\n",
       "      <td>30.161254</td>\n",
       "      <td>30.159909</td>\n",
       "      <td>30.166118</td>\n",
       "      <td>30.164144</td>\n",
       "      <td>30.165105</td>\n",
       "    </tr>\n",
       "    <tr>\n",
       "      <th>22</th>\n",
       "      <td>4.0</td>\n",
       "      <td>0.2</td>\n",
       "      <td>10.0</td>\n",
       "      <td>20000.0</td>\n",
       "      <td>0.09890</td>\n",
       "      <td>0.18565</td>\n",
       "      <td>0.28440</td>\n",
       "      <td>0.38265</td>\n",
       "      <td>0.48315</td>\n",
       "      <td>0.57560</td>\n",
       "      <td>...</td>\n",
       "      <td>26.860342</td>\n",
       "      <td>26.864114</td>\n",
       "      <td>26.869164</td>\n",
       "      <td>26.869716</td>\n",
       "      <td>26.870289</td>\n",
       "      <td>26.873304</td>\n",
       "      <td>26.876995</td>\n",
       "      <td>26.874407</td>\n",
       "      <td>26.871228</td>\n",
       "      <td>26.875538</td>\n",
       "    </tr>\n",
       "    <tr>\n",
       "      <th>23</th>\n",
       "      <td>4.0</td>\n",
       "      <td>0.2</td>\n",
       "      <td>15.0</td>\n",
       "      <td>20000.0</td>\n",
       "      <td>0.08565</td>\n",
       "      <td>0.16635</td>\n",
       "      <td>0.24465</td>\n",
       "      <td>0.32235</td>\n",
       "      <td>0.40465</td>\n",
       "      <td>0.47915</td>\n",
       "      <td>...</td>\n",
       "      <td>24.504796</td>\n",
       "      <td>24.508098</td>\n",
       "      <td>24.505157</td>\n",
       "      <td>24.503930</td>\n",
       "      <td>24.502645</td>\n",
       "      <td>24.504211</td>\n",
       "      <td>24.501301</td>\n",
       "      <td>24.503956</td>\n",
       "      <td>24.503775</td>\n",
       "      <td>24.502736</td>\n",
       "    </tr>\n",
       "    <tr>\n",
       "      <th>24</th>\n",
       "      <td>4.0</td>\n",
       "      <td>0.2</td>\n",
       "      <td>20.0</td>\n",
       "      <td>20000.0</td>\n",
       "      <td>0.07195</td>\n",
       "      <td>0.14000</td>\n",
       "      <td>0.20540</td>\n",
       "      <td>0.27795</td>\n",
       "      <td>0.34700</td>\n",
       "      <td>0.41520</td>\n",
       "      <td>...</td>\n",
       "      <td>21.811166</td>\n",
       "      <td>21.810874</td>\n",
       "      <td>21.814162</td>\n",
       "      <td>21.819395</td>\n",
       "      <td>21.816121</td>\n",
       "      <td>21.817337</td>\n",
       "      <td>21.815700</td>\n",
       "      <td>21.818142</td>\n",
       "      <td>21.814065</td>\n",
       "      <td>21.812690</td>\n",
       "    </tr>\n",
       "    <tr>\n",
       "      <th>25</th>\n",
       "      <td>4.0</td>\n",
       "      <td>0.2</td>\n",
       "      <td>25.0</td>\n",
       "      <td>20000.0</td>\n",
       "      <td>0.06775</td>\n",
       "      <td>0.12795</td>\n",
       "      <td>0.18900</td>\n",
       "      <td>0.25350</td>\n",
       "      <td>0.31330</td>\n",
       "      <td>0.37980</td>\n",
       "      <td>...</td>\n",
       "      <td>20.310096</td>\n",
       "      <td>20.311365</td>\n",
       "      <td>20.310964</td>\n",
       "      <td>20.312007</td>\n",
       "      <td>20.310029</td>\n",
       "      <td>20.309637</td>\n",
       "      <td>20.306824</td>\n",
       "      <td>20.307663</td>\n",
       "      <td>20.309281</td>\n",
       "      <td>20.310410</td>\n",
       "    </tr>\n",
       "  </tbody>\n",
       "</table>\n",
       "<p>26 rows × 15004 columns</p>\n",
       "</div>"
      ],
      "text/plain": [
       "    NumArms  ArmGap  ArmData  NumSamples        1        2        3        4  \\\n",
       "0       2.0     0.2      0.0     20000.0  0.10305  0.19275  0.28040  0.36300   \n",
       "1       2.0     0.2      5.0     20000.0  0.06570  0.13045  0.19565  0.26775   \n",
       "2       2.0     0.2     10.0     20000.0  0.05330  0.10680  0.15295  0.20775   \n",
       "3       2.0     0.2     15.0     20000.0  0.04435  0.08650  0.12630  0.16725   \n",
       "4       2.0     0.2     20.0     20000.0  0.04190  0.07645  0.10550  0.13825   \n",
       "5       2.0     0.2     25.0     20000.0  0.03125  0.05805  0.08795  0.11810   \n",
       "6       2.0     0.2     30.0     20000.0  0.02510  0.04600  0.07055  0.09435   \n",
       "7       2.0     0.2     35.0     20000.0  0.02025  0.04060  0.06180  0.08190   \n",
       "8       2.0     0.2     40.0     20000.0  0.02185  0.04170  0.05520  0.07195   \n",
       "9       2.0     0.2     45.0     20000.0  0.01690  0.03760  0.05260  0.07265   \n",
       "10      2.0     0.2     50.0     20000.0  0.01530  0.03510  0.05205  0.06845   \n",
       "11      2.0     0.2     55.0     20000.0  0.01735  0.03365  0.04930  0.06315   \n",
       "12      2.0     0.2     60.0     20000.0  0.01240  0.02080  0.03410  0.04270   \n",
       "13      2.0     0.2     65.0     20000.0  0.01140  0.02290  0.03440  0.04940   \n",
       "14      2.0     0.2     70.0     20000.0  0.00715  0.02585  0.04235  0.04610   \n",
       "15      2.0     0.2     75.0     20000.0  0.00915  0.02095  0.03075  0.04445   \n",
       "16      2.0     0.2     80.0     20000.0 -0.00275  0.00315  0.00935  0.01785   \n",
       "17      2.0     0.2     85.0     20000.0  0.00390  0.00430  0.00830  0.01715   \n",
       "18      2.0     0.2     90.0     20000.0  0.00620  0.00885  0.01880  0.02105   \n",
       "19      2.0     0.2     95.0     20000.0  0.00610  0.01380  0.02245  0.02790   \n",
       "20      4.0     0.2      0.0     20000.0  0.14740  0.29045  0.42850  0.57080   \n",
       "21      4.0     0.2      5.0     20000.0  0.10910  0.21580  0.32915  0.44125   \n",
       "22      4.0     0.2     10.0     20000.0  0.09890  0.18565  0.28440  0.38265   \n",
       "23      4.0     0.2     15.0     20000.0  0.08565  0.16635  0.24465  0.32235   \n",
       "24      4.0     0.2     20.0     20000.0  0.07195  0.14000  0.20540  0.27795   \n",
       "25      4.0     0.2     25.0     20000.0  0.06775  0.12795  0.18900  0.25350   \n",
       "\n",
       "          5        6  ...  high_4991  high_4992  high_4993  high_4994  \\\n",
       "0   0.45100  0.52535  ...  11.329212  11.336390  11.331847  11.331856   \n",
       "1   0.32720  0.38290  ...  10.268495  10.274069  10.275897  10.281950   \n",
       "2   0.26230  0.30925  ...   9.752596   9.749942   9.748894   9.753722   \n",
       "3   0.21590  0.25555  ...   8.475747   8.475325   8.478413   8.474076   \n",
       "4   0.17145  0.20125  ...   8.095993   8.097309   8.101420   8.102856   \n",
       "5   0.14735  0.17285  ...   7.169832   7.174229   7.169668   7.171941   \n",
       "6   0.11630  0.14815  ...   6.095670   6.102188   6.110151   6.110310   \n",
       "7   0.10460  0.13070  ...   5.793631   5.791822   5.796076   5.795077   \n",
       "8   0.09235  0.11285  ...   5.152256   5.155772   5.159137   5.158810   \n",
       "9   0.08955  0.10815  ...   4.600459   4.601214   4.603472   4.604263   \n",
       "10  0.08130  0.09830  ...   4.346613   4.346957   4.343338   4.353409   \n",
       "11  0.07140  0.08125  ...   4.141548   4.138203   4.140261   4.139173   \n",
       "12  0.05500  0.06450  ...   3.615221   3.613734   3.611680   3.614021   \n",
       "13  0.06305  0.07215  ...   2.988397   2.990354   2.989765   2.982991   \n",
       "14  0.05530  0.06690  ...   2.717559   2.717820   2.713087   2.707609   \n",
       "15  0.05415  0.06085  ...   2.774910   2.782262   2.781467   2.786423   \n",
       "16  0.02600  0.03210  ...   2.009240   2.007284   2.010899   2.015729   \n",
       "17  0.02060  0.03050  ...   1.798546   1.803943   1.807560   1.812520   \n",
       "18  0.03255  0.03835  ...   2.034373   2.033315   2.035411   2.034425   \n",
       "19  0.03530  0.04215  ...   1.693386   1.694859   1.697201   1.698896   \n",
       "20  0.71000  0.84405  ...  32.844908  32.843569  32.839662  32.836484   \n",
       "21  0.54740  0.66050  ...  30.159449  30.159208  30.162644  30.160067   \n",
       "22  0.48315  0.57560  ...  26.860342  26.864114  26.869164  26.869716   \n",
       "23  0.40465  0.47915  ...  24.504796  24.508098  24.505157  24.503930   \n",
       "24  0.34700  0.41520  ...  21.811166  21.810874  21.814162  21.819395   \n",
       "25  0.31330  0.37980  ...  20.310096  20.311365  20.310964  20.312007   \n",
       "\n",
       "    high_4995  high_4996  high_4997  high_4998  high_4999  high_5000  \n",
       "0   11.327146  11.319418  11.322226  11.324416  11.320070  11.319073  \n",
       "1   10.283829  10.277579  10.276563  10.275309  10.276945  10.276038  \n",
       "2    9.755476   9.756147   9.750386   9.749071   9.748872   9.748723  \n",
       "3    8.476498   8.478826   8.473253   8.471882   8.473843   8.472562  \n",
       "4    8.100521   8.108739   8.110408   8.104582   8.107620   8.107545  \n",
       "5    7.178371   7.177277   7.178699   7.178321   7.177985   7.179183  \n",
       "6    6.108725   6.107527   6.107236   6.103886   6.106237   6.113290  \n",
       "7    5.800900   5.801757   5.804984   5.808999   5.811526   5.811959  \n",
       "8    5.162310   5.161293   5.157842   5.161647   5.157151   5.157544  \n",
       "9    4.610652   4.613419   4.615099   4.612097   4.610729   4.613492  \n",
       "10   4.351776   4.352466   4.354734   4.358598   4.356998   4.360748  \n",
       "11   4.139010   4.141227   4.145370   4.145488   4.145632   4.146159  \n",
       "12   3.608752   3.610483   3.607094   3.608337   3.612503   3.615585  \n",
       "13   2.976992   2.979093   2.977038   2.972361   2.979222   2.978036  \n",
       "14   2.705807   2.707922   2.706071   2.706202   2.712256   2.718072  \n",
       "15   2.786716   2.788883   2.792392   2.791188   2.787805   2.791937  \n",
       "16   2.015129   2.016482   2.018137   2.016193   2.018459   2.023753  \n",
       "17   1.812436   1.814992   1.816756   1.815339   1.819050   1.816093  \n",
       "18   2.030780   2.031309   2.036481   2.035764   2.034805   2.037815  \n",
       "19   1.700453   1.702946   1.706870   1.704882   1.698105   1.694650  \n",
       "20  32.836764  32.842168  32.845182  32.849826  32.853094  32.858831  \n",
       "21  30.162339  30.161254  30.159909  30.166118  30.164144  30.165105  \n",
       "22  26.870289  26.873304  26.876995  26.874407  26.871228  26.875538  \n",
       "23  24.502645  24.504211  24.501301  24.503956  24.503775  24.502736  \n",
       "24  21.816121  21.817337  21.815700  21.818142  21.814065  21.812690  \n",
       "25  20.310029  20.309637  20.306824  20.307663  20.309281  20.310410  \n",
       "\n",
       "[26 rows x 15004 columns]"
      ]
     },
     "execution_count": 26,
     "metadata": {},
     "output_type": "execute_result"
    }
   ],
   "source": [
    "fs_df"
   ]
  },
  {
   "cell_type": "code",
   "execution_count": 27,
   "id": "6655c466-72f7-4b6e-bcca-2e5aa5f32e7c",
   "metadata": {},
   "outputs": [],
   "source": [
    "fs_df.to_csv(\"bern_fs_df.csv\")\n",
    "ar_df.to_csv(\"bern_ar_df.csv\")"
   ]
  },
  {
   "cell_type": "code",
   "execution_count": 31,
   "id": "25a14d57-b00e-421a-aa12-4f57d5179aaf",
   "metadata": {},
   "outputs": [
    {
     "data": {
      "text/plain": [
       "<matplotlib.collections.PolyCollection at 0x1c17d99ee70>"
      ]
     },
     "execution_count": 31,
     "metadata": {},
     "output_type": "execute_result"
    },
    {
     "data": {
      "image/png": "[encoded data removed]",
      "text/plain": [
       "<Figure size 640x480 with 1 Axes>"
      ]
     },
     "metadata": {},
     "output_type": "display_data"
    }
   ],
   "source": [
    "row = 14\n",
    "plt.plot(c, fs_df[c].loc[row])\n",
    "plt.fill_between(c, fs_df[low_keys].loc[row],fs_df[high_keys].loc[row],alpha=0.2)\n",
    "plt.plot(c, ar_df[c].loc[row])\n",
    "plt.fill_between(c, ar_df[low_keys].loc[row],ar_df[high_keys].loc[row],alpha=0.2)"
   ]
  },
  {
   "cell_type": "code",
   "execution_count": null,
   "id": "0b396279-1da9-4f4b-be88-9634dcfdc616",
   "metadata": {},
   "outputs": [],
   "source": []
  }
 ],
 "metadata": {
  "kernelspec": {
   "display_name": "Python 3 (ipykernel)",
   "language": "python",
   "name": "python3"
  },
  "language_info": {
   "codemirror_mode": {
    "name": "ipython",
    "version": 3
   },
   "file_extension": ".py",
   "mimetype": "text/x-python",
   "name": "python",
   "nbconvert_exporter": "python",
   "pygments_lexer": "ipython3",
   "version": "3.11.4"
  }
 },
 "nbformat": 4,
 "nbformat_minor": 5
}
