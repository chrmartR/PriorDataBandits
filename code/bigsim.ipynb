{
 "cells": [
  {
   "cell_type": "code",
   "execution_count": 41,
   "id": "c19c7ab8-27d5-45da-b514-bcb83479dda9",
   "metadata": {},
   "outputs": [],
   "source": [
    "import numpy as np\n",
    "import pandas as pd\n",
    "from tqdm.notebook import tqdm\n",
    "import helpers.mab_bernoulli as brn\n",
    "import matplotlib.pyplot as plt"
   ]
  },
  {
   "cell_type": "code",
   "execution_count": 59,
   "id": "7db7b103-071a-4ad8-8ddc-3ae8b03e5cb7",
   "metadata": {},
   "outputs": [],
   "source": [
    "#parameter listing\n",
    "T = 1000 #simulation horizon\n",
    "K_list = np.arange(2, 16, 3) #number of arms\n",
    "delta_list = [0.2] #reward gap between best and worst arms\n",
    "data_amt_list = np.arange(0, 50, 10) #number of data points per arm\n",
    "num_samples = 1000"
   ]
  },
  {
   "cell_type": "code",
   "execution_count": 60,
   "id": "62fec354-a1b1-4c39-9855-a70e3868402b",
   "metadata": {},
   "outputs": [
    {
     "data": {
      "application/vnd.jupyter.widget-view+json": {
       "model_id": "8665f975969647d1aa566fdf9ba36cbb",
       "version_major": 2,
       "version_minor": 0
      },
      "text/plain": [
       "Number of Arms:   0%|          | 0/3 [00:00<?, ?it/s]"
      ]
     },
     "metadata": {},
     "output_type": "display_data"
    },
    {
     "data": {
      "application/vnd.jupyter.widget-view+json": {
       "model_id": "",
       "version_major": 2,
       "version_minor": 0
      },
      "text/plain": [
       "Arm Gap:   0%|          | 0/1 [00:00<?, ?it/s]"
      ]
     },
     "metadata": {},
     "output_type": "display_data"
    },
    {
     "data": {
      "application/vnd.jupyter.widget-view+json": {
       "model_id": "",
       "version_major": 2,
       "version_minor": 0
      },
      "text/plain": [
       "Data per arm:   0%|          | 0/3 [00:00<?, ?it/s]"
      ]
     },
     "metadata": {},
     "output_type": "display_data"
    },
    {
     "data": {
      "application/vnd.jupyter.widget-view+json": {
       "model_id": "",
       "version_major": 2,
       "version_minor": 0
      },
      "text/plain": [
       "  0%|          | 0/1000 [00:00<?, ?it/s]"
      ]
     },
     "metadata": {},
     "output_type": "display_data"
    },
    {
     "data": {
      "application/vnd.jupyter.widget-view+json": {
       "model_id": "",
       "version_major": 2,
       "version_minor": 0
      },
      "text/plain": [
       "  0%|          | 0/1000 [00:00<?, ?it/s]"
      ]
     },
     "metadata": {},
     "output_type": "display_data"
    },
    {
     "data": {
      "application/vnd.jupyter.widget-view+json": {
       "model_id": "",
       "version_major": 2,
       "version_minor": 0
      },
      "text/plain": [
       "  0%|          | 0/1000 [00:00<?, ?it/s]"
      ]
     },
     "metadata": {},
     "output_type": "display_data"
    },
    {
     "data": {
      "application/vnd.jupyter.widget-view+json": {
       "model_id": "",
       "version_major": 2,
       "version_minor": 0
      },
      "text/plain": [
       "Arm Gap:   0%|          | 0/1 [00:00<?, ?it/s]"
      ]
     },
     "metadata": {},
     "output_type": "display_data"
    },
    {
     "data": {
      "application/vnd.jupyter.widget-view+json": {
       "model_id": "",
       "version_major": 2,
       "version_minor": 0
      },
      "text/plain": [
       "Data per arm:   0%|          | 0/3 [00:00<?, ?it/s]"
      ]
     },
     "metadata": {},
     "output_type": "display_data"
    },
    {
     "data": {
      "application/vnd.jupyter.widget-view+json": {
       "model_id": "",
       "version_major": 2,
       "version_minor": 0
      },
      "text/plain": [
       "  0%|          | 0/1000 [00:00<?, ?it/s]"
      ]
     },
     "metadata": {},
     "output_type": "display_data"
    },
    {
     "data": {
      "application/vnd.jupyter.widget-view+json": {
       "model_id": "",
       "version_major": 2,
       "version_minor": 0
      },
      "text/plain": [
       "  0%|          | 0/1000 [00:00<?, ?it/s]"
      ]
     },
     "metadata": {},
     "output_type": "display_data"
    },
    {
     "data": {
      "application/vnd.jupyter.widget-view+json": {
       "model_id": "",
       "version_major": 2,
       "version_minor": 0
      },
      "text/plain": [
       "  0%|          | 0/1000 [00:00<?, ?it/s]"
      ]
     },
     "metadata": {},
     "output_type": "display_data"
    },
    {
     "data": {
      "application/vnd.jupyter.widget-view+json": {
       "model_id": "",
       "version_major": 2,
       "version_minor": 0
      },
      "text/plain": [
       "Arm Gap:   0%|          | 0/1 [00:00<?, ?it/s]"
      ]
     },
     "metadata": {},
     "output_type": "display_data"
    },
    {
     "data": {
      "application/vnd.jupyter.widget-view+json": {
       "model_id": "",
       "version_major": 2,
       "version_minor": 0
      },
      "text/plain": [
       "Data per arm:   0%|          | 0/3 [00:00<?, ?it/s]"
      ]
     },
     "metadata": {},
     "output_type": "display_data"
    },
    {
     "data": {
      "application/vnd.jupyter.widget-view+json": {
       "model_id": "",
       "version_major": 2,
       "version_minor": 0
      },
      "text/plain": [
       "  0%|          | 0/1000 [00:00<?, ?it/s]"
      ]
     },
     "metadata": {},
     "output_type": "display_data"
    },
    {
     "data": {
      "application/vnd.jupyter.widget-view+json": {
       "model_id": "",
       "version_major": 2,
       "version_minor": 0
      },
      "text/plain": [
       "  0%|          | 0/1000 [00:00<?, ?it/s]"
      ]
     },
     "metadata": {},
     "output_type": "display_data"
    },
    {
     "data": {
      "application/vnd.jupyter.widget-view+json": {
       "model_id": "",
       "version_major": 2,
       "version_minor": 0
      },
      "text/plain": [
       "  0%|          | 0/1000 [00:00<?, ?it/s]"
      ]
     },
     "metadata": {},
     "output_type": "display_data"
    }
   ],
   "source": [
    "df_cols = [\"NumArms\", \"ArmGap\", \"ArmData\", \"NumSamples\"]\n",
    "c = list(range(1, T + 1))\n",
    "df_cols = df_cols + c + [\"low_\"+str(n) for n in c] + [\"high_\"+str(n) for n in c]\n",
    "fs_df = pd.DataFrame(columns=df_cols)\n",
    "ar_df = pd.DataFrame(columns=df_cols)\n",
    "\n",
    "for K in tqdm(K_list, desc = \"Number of Arms\"):\n",
    "    for delta in tqdm(delta_list, leave = False, desc = \"Arm Gap\"):\n",
    "        arms = [0.5 - delta/2 for _ in range(K-1)]\n",
    "        opt_mean = 0.5 + delta / 2\n",
    "        arms.append(opt_mean)\n",
    "        for data_amt in tqdm(data_amt_list, leave = False, desc = \"Data per arm\"):\n",
    "\n",
    "            regret_vecs = [np.zeros((num_samples, T)) for _ in range(2)]\n",
    "            for i in tqdm(range(num_samples), leave = False):\n",
    "                arm_data = [brn.gen_data(arms[i], data_amt) for i in range(K)]\n",
    "                fs_rewards = brn.FS_path(T, arms, brn.flat_priors(K), arm_data)\n",
    "                ar_rewards = brn.AR_path(T, arms, brn.flat_priors(K), arm_data)\n",
    "\n",
    "                fs_regrets = opt_mean - np.array(fs_rewards)\n",
    "                ar_regrets = opt_mean - np.array(ar_rewards)\n",
    "\n",
    "                regret_vecs[0][i] = np.cumsum(fs_regrets)\n",
    "                regret_vecs[1][i] = np.cumsum(ar_regrets)\n",
    "\n",
    "            avgs = np.mean(regret_vecs, axis=1)\n",
    "            lower_CBs = avgs-2*np.std(regret_vecs,axis=1)/np.sqrt(num_samples)\n",
    "            upper_CBs = avgs+2*np.std(regret_vecs,axis=1)/np.sqrt(num_samples)\n",
    "\n",
    "            fs_df.loc[len(fs_df)] = [K, delta, data_amt, num_samples] + list(avgs[0]) + list(lower_CBs[0]) + list(upper_CBs[0])\n",
    "            ar_df.loc[len(ar_df)] = [K, delta, data_amt, num_samples] + list(avgs[1]) + list(lower_CBs[1]) + list(upper_CBs[1])"
   ]
  },
  {
   "cell_type": "code",
   "execution_count": 61,
   "id": "a2d15d1a-028b-423f-a302-6674c069e083",
   "metadata": {},
   "outputs": [
    {
     "data": {
      "text/html": [
       "<div>\n",
       "<style scoped>\n",
       "    .dataframe tbody tr th:only-of-type {\n",
       "        vertical-align: middle;\n",
       "    }\n",
       "\n",
       "    .dataframe tbody tr th {\n",
       "        vertical-align: top;\n",
       "    }\n",
       "\n",
       "    .dataframe thead th {\n",
       "        text-align: right;\n",
       "    }\n",
       "</style>\n",
       "<table border=\"1\" class=\"dataframe\">\n",
       "  <thead>\n",
       "    <tr style=\"text-align: right;\">\n",
       "      <th></th>\n",
       "      <th>NumArms</th>\n",
       "      <th>ArmGap</th>\n",
       "      <th>ArmData</th>\n",
       "      <th>NumSamples</th>\n",
       "      <th>1</th>\n",
       "      <th>2</th>\n",
       "      <th>3</th>\n",
       "      <th>4</th>\n",
       "      <th>5</th>\n",
       "      <th>6</th>\n",
       "      <th>...</th>\n",
       "      <th>high_991</th>\n",
       "      <th>high_992</th>\n",
       "      <th>high_993</th>\n",
       "      <th>high_994</th>\n",
       "      <th>high_995</th>\n",
       "      <th>high_996</th>\n",
       "      <th>high_997</th>\n",
       "      <th>high_998</th>\n",
       "      <th>high_999</th>\n",
       "      <th>high_1000</th>\n",
       "    </tr>\n",
       "  </thead>\n",
       "  <tbody>\n",
       "    <tr>\n",
       "      <th>0</th>\n",
       "      <td>2.0</td>\n",
       "      <td>0.2</td>\n",
       "      <td>0.0</td>\n",
       "      <td>1000.0</td>\n",
       "      <td>0.124</td>\n",
       "      <td>0.215</td>\n",
       "      <td>0.291</td>\n",
       "      <td>0.387</td>\n",
       "      <td>0.474</td>\n",
       "      <td>0.539</td>\n",
       "      <td>...</td>\n",
       "      <td>9.383029</td>\n",
       "      <td>9.353586</td>\n",
       "      <td>9.355911</td>\n",
       "      <td>9.363193</td>\n",
       "      <td>9.347976</td>\n",
       "      <td>9.334835</td>\n",
       "      <td>9.316342</td>\n",
       "      <td>9.344965</td>\n",
       "      <td>9.356432</td>\n",
       "      <td>9.370311</td>\n",
       "    </tr>\n",
       "    <tr>\n",
       "      <th>1</th>\n",
       "      <td>2.0</td>\n",
       "      <td>0.2</td>\n",
       "      <td>20.0</td>\n",
       "      <td>1000.0</td>\n",
       "      <td>0.035</td>\n",
       "      <td>0.076</td>\n",
       "      <td>0.086</td>\n",
       "      <td>0.106</td>\n",
       "      <td>0.152</td>\n",
       "      <td>0.205</td>\n",
       "      <td>...</td>\n",
       "      <td>5.714818</td>\n",
       "      <td>5.711069</td>\n",
       "      <td>5.705270</td>\n",
       "      <td>5.727089</td>\n",
       "      <td>5.729891</td>\n",
       "      <td>5.739044</td>\n",
       "      <td>5.740509</td>\n",
       "      <td>5.752502</td>\n",
       "      <td>5.757989</td>\n",
       "      <td>5.748878</td>\n",
       "    </tr>\n",
       "    <tr>\n",
       "      <th>2</th>\n",
       "      <td>2.0</td>\n",
       "      <td>0.2</td>\n",
       "      <td>40.0</td>\n",
       "      <td>1000.0</td>\n",
       "      <td>0.027</td>\n",
       "      <td>0.073</td>\n",
       "      <td>0.118</td>\n",
       "      <td>0.129</td>\n",
       "      <td>0.159</td>\n",
       "      <td>0.185</td>\n",
       "      <td>...</td>\n",
       "      <td>3.685315</td>\n",
       "      <td>3.702985</td>\n",
       "      <td>3.715149</td>\n",
       "      <td>3.709391</td>\n",
       "      <td>3.710877</td>\n",
       "      <td>3.712272</td>\n",
       "      <td>3.701473</td>\n",
       "      <td>3.693508</td>\n",
       "      <td>3.707075</td>\n",
       "      <td>3.718037</td>\n",
       "    </tr>\n",
       "    <tr>\n",
       "      <th>3</th>\n",
       "      <td>8.0</td>\n",
       "      <td>0.2</td>\n",
       "      <td>0.0</td>\n",
       "      <td>1000.0</td>\n",
       "      <td>0.175</td>\n",
       "      <td>0.353</td>\n",
       "      <td>0.507</td>\n",
       "      <td>0.670</td>\n",
       "      <td>0.868</td>\n",
       "      <td>1.049</td>\n",
       "      <td>...</td>\n",
       "      <td>54.614349</td>\n",
       "      <td>54.638959</td>\n",
       "      <td>54.650966</td>\n",
       "      <td>54.651836</td>\n",
       "      <td>54.676058</td>\n",
       "      <td>54.694476</td>\n",
       "      <td>54.726676</td>\n",
       "      <td>54.742591</td>\n",
       "      <td>54.744858</td>\n",
       "      <td>54.749152</td>\n",
       "    </tr>\n",
       "    <tr>\n",
       "      <th>4</th>\n",
       "      <td>8.0</td>\n",
       "      <td>0.2</td>\n",
       "      <td>20.0</td>\n",
       "      <td>1000.0</td>\n",
       "      <td>0.066</td>\n",
       "      <td>0.155</td>\n",
       "      <td>0.259</td>\n",
       "      <td>0.364</td>\n",
       "      <td>0.472</td>\n",
       "      <td>0.596</td>\n",
       "      <td>...</td>\n",
       "      <td>33.442853</td>\n",
       "      <td>33.451405</td>\n",
       "      <td>33.466481</td>\n",
       "      <td>33.473299</td>\n",
       "      <td>33.480007</td>\n",
       "      <td>33.468919</td>\n",
       "      <td>33.491863</td>\n",
       "      <td>33.507872</td>\n",
       "      <td>33.510522</td>\n",
       "      <td>33.522242</td>\n",
       "    </tr>\n",
       "    <tr>\n",
       "      <th>5</th>\n",
       "      <td>8.0</td>\n",
       "      <td>0.2</td>\n",
       "      <td>40.0</td>\n",
       "      <td>1000.0</td>\n",
       "      <td>0.057</td>\n",
       "      <td>0.146</td>\n",
       "      <td>0.216</td>\n",
       "      <td>0.275</td>\n",
       "      <td>0.325</td>\n",
       "      <td>0.400</td>\n",
       "      <td>...</td>\n",
       "      <td>21.424195</td>\n",
       "      <td>21.437711</td>\n",
       "      <td>21.428095</td>\n",
       "      <td>21.464551</td>\n",
       "      <td>21.457804</td>\n",
       "      <td>21.483657</td>\n",
       "      <td>21.499838</td>\n",
       "      <td>21.495770</td>\n",
       "      <td>21.465301</td>\n",
       "      <td>21.496614</td>\n",
       "    </tr>\n",
       "    <tr>\n",
       "      <th>6</th>\n",
       "      <td>14.0</td>\n",
       "      <td>0.2</td>\n",
       "      <td>0.0</td>\n",
       "      <td>1000.0</td>\n",
       "      <td>0.177</td>\n",
       "      <td>0.383</td>\n",
       "      <td>0.586</td>\n",
       "      <td>0.820</td>\n",
       "      <td>1.018</td>\n",
       "      <td>1.205</td>\n",
       "      <td>...</td>\n",
       "      <td>93.697242</td>\n",
       "      <td>93.731360</td>\n",
       "      <td>93.810269</td>\n",
       "      <td>93.836835</td>\n",
       "      <td>93.876321</td>\n",
       "      <td>93.919860</td>\n",
       "      <td>93.932141</td>\n",
       "      <td>93.986775</td>\n",
       "      <td>94.040850</td>\n",
       "      <td>94.085011</td>\n",
       "    </tr>\n",
       "    <tr>\n",
       "      <th>7</th>\n",
       "      <td>14.0</td>\n",
       "      <td>0.2</td>\n",
       "      <td>20.0</td>\n",
       "      <td>1000.0</td>\n",
       "      <td>0.123</td>\n",
       "      <td>0.233</td>\n",
       "      <td>0.354</td>\n",
       "      <td>0.465</td>\n",
       "      <td>0.597</td>\n",
       "      <td>0.712</td>\n",
       "      <td>...</td>\n",
       "      <td>57.309964</td>\n",
       "      <td>57.301015</td>\n",
       "      <td>57.331748</td>\n",
       "      <td>57.350967</td>\n",
       "      <td>57.356745</td>\n",
       "      <td>57.381175</td>\n",
       "      <td>57.428590</td>\n",
       "      <td>57.426764</td>\n",
       "      <td>57.443803</td>\n",
       "      <td>57.501180</td>\n",
       "    </tr>\n",
       "    <tr>\n",
       "      <th>8</th>\n",
       "      <td>14.0</td>\n",
       "      <td>0.2</td>\n",
       "      <td>40.0</td>\n",
       "      <td>1000.0</td>\n",
       "      <td>0.095</td>\n",
       "      <td>0.210</td>\n",
       "      <td>0.309</td>\n",
       "      <td>0.385</td>\n",
       "      <td>0.465</td>\n",
       "      <td>0.539</td>\n",
       "      <td>...</td>\n",
       "      <td>38.003216</td>\n",
       "      <td>38.013784</td>\n",
       "      <td>38.042674</td>\n",
       "      <td>38.058471</td>\n",
       "      <td>38.073320</td>\n",
       "      <td>38.105585</td>\n",
       "      <td>38.117769</td>\n",
       "      <td>38.127870</td>\n",
       "      <td>38.112338</td>\n",
       "      <td>38.118261</td>\n",
       "    </tr>\n",
       "  </tbody>\n",
       "</table>\n",
       "<p>9 rows × 3004 columns</p>\n",
       "</div>"
      ],
      "text/plain": [
       "   NumArms  ArmGap  ArmData  NumSamples      1      2      3      4      5  \\\n",
       "0      2.0     0.2      0.0      1000.0  0.124  0.215  0.291  0.387  0.474   \n",
       "1      2.0     0.2     20.0      1000.0  0.035  0.076  0.086  0.106  0.152   \n",
       "2      2.0     0.2     40.0      1000.0  0.027  0.073  0.118  0.129  0.159   \n",
       "3      8.0     0.2      0.0      1000.0  0.175  0.353  0.507  0.670  0.868   \n",
       "4      8.0     0.2     20.0      1000.0  0.066  0.155  0.259  0.364  0.472   \n",
       "5      8.0     0.2     40.0      1000.0  0.057  0.146  0.216  0.275  0.325   \n",
       "6     14.0     0.2      0.0      1000.0  0.177  0.383  0.586  0.820  1.018   \n",
       "7     14.0     0.2     20.0      1000.0  0.123  0.233  0.354  0.465  0.597   \n",
       "8     14.0     0.2     40.0      1000.0  0.095  0.210  0.309  0.385  0.465   \n",
       "\n",
       "       6  ...   high_991   high_992   high_993   high_994   high_995  \\\n",
       "0  0.539  ...   9.383029   9.353586   9.355911   9.363193   9.347976   \n",
       "1  0.205  ...   5.714818   5.711069   5.705270   5.727089   5.729891   \n",
       "2  0.185  ...   3.685315   3.702985   3.715149   3.709391   3.710877   \n",
       "3  1.049  ...  54.614349  54.638959  54.650966  54.651836  54.676058   \n",
       "4  0.596  ...  33.442853  33.451405  33.466481  33.473299  33.480007   \n",
       "5  0.400  ...  21.424195  21.437711  21.428095  21.464551  21.457804   \n",
       "6  1.205  ...  93.697242  93.731360  93.810269  93.836835  93.876321   \n",
       "7  0.712  ...  57.309964  57.301015  57.331748  57.350967  57.356745   \n",
       "8  0.539  ...  38.003216  38.013784  38.042674  38.058471  38.073320   \n",
       "\n",
       "    high_996   high_997   high_998   high_999  high_1000  \n",
       "0   9.334835   9.316342   9.344965   9.356432   9.370311  \n",
       "1   5.739044   5.740509   5.752502   5.757989   5.748878  \n",
       "2   3.712272   3.701473   3.693508   3.707075   3.718037  \n",
       "3  54.694476  54.726676  54.742591  54.744858  54.749152  \n",
       "4  33.468919  33.491863  33.507872  33.510522  33.522242  \n",
       "5  21.483657  21.499838  21.495770  21.465301  21.496614  \n",
       "6  93.919860  93.932141  93.986775  94.040850  94.085011  \n",
       "7  57.381175  57.428590  57.426764  57.443803  57.501180  \n",
       "8  38.105585  38.117769  38.127870  38.112338  38.118261  \n",
       "\n",
       "[9 rows x 3004 columns]"
      ]
     },
     "execution_count": 61,
     "metadata": {},
     "output_type": "execute_result"
    }
   ],
   "source": [
    "fs_df"
   ]
  },
  {
   "cell_type": "code",
   "execution_count": 62,
   "id": "6655c466-72f7-4b6e-bcca-2e5aa5f32e7c",
   "metadata": {},
   "outputs": [],
   "source": [
    "fs_df.to_csv(\"bern_fs_df.csv\")"
   ]
  },
  {
   "cell_type": "code",
   "execution_count": null,
   "id": "25a14d57-b00e-421a-aa12-4f57d5179aaf",
   "metadata": {},
   "outputs": [],
   "source": []
  }
 ],
 "metadata": {
  "kernelspec": {
   "display_name": "Python 3 (ipykernel)",
   "language": "python",
   "name": "python3"
  },
  "language_info": {
   "codemirror_mode": {
    "name": "ipython",
    "version": 3
   },
   "file_extension": ".py",
   "mimetype": "text/x-python",
   "name": "python",
   "nbconvert_exporter": "python",
   "pygments_lexer": "ipython3",
   "version": "3.11.4"
  }
 },
 "nbformat": 4,
 "nbformat_minor": 5
}
