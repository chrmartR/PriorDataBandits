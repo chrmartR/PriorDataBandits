{
 "cells": [
  {
   "cell_type": "code",
   "execution_count": 20,
   "id": "e1d8b278-17a3-4037-be1f-a3da725c51a5",
   "metadata": {},
   "outputs": [],
   "source": [
    "import numpy as np\n",
    "import pandas as pd\n",
    "import matplotlib.pyplot as plt\n",
    "import multiprocess as mp\n",
    "import time\n",
    "from helpers.GPTS_Kernels import RBFKernel\n",
    "import helpers.GP_opt_sims as GP"
   ]
  },
  {
   "cell_type": "code",
   "execution_count": 89,
   "id": "316d9621-dbbc-4f2e-899d-679f776fad8e",
   "metadata": {},
   "outputs": [],
   "source": [
    "def genFunc(func_info, beta):\n",
    "    if(func_info[0] == 0):\n",
    "        _, m, o, l = func_info\n",
    "        truef = lambda x: o * np.exp(-(x-m)*(x-m)/l)\n",
    "        return GP.GPFunction(truef, 1/beta, [0, 1], [m, o])\n",
    "    \n",
    "def GP_sim_wrapper(info, print_upd = True): \n",
    "    import numpy as np\n",
    "    \n",
    "    idnum, task = info\n",
    "    T, func_info, AR_type, data_amt, data_dist, num_samples, gpr_data = task\n",
    "    len_scale, beta = gpr_data\n",
    "\n",
    "    kernel = RBFKernel(len_scale)\n",
    "    func = genFunc(func_info, beta)\n",
    "\n",
    "    PERC_FREQ = 0.1\n",
    "    print_intvl = int(num_samples*PERC_FREQ/100)\n",
    "    print_intvl = print_intvl if print_intvl > 0 else 1\n",
    "\n",
    "    regret_vecs = [np.zeros((num_samples, T)) for _ in range(2)]\n",
    "    NUM_BUCKETS = 50\n",
    "    data_rem = np.zeros(NUM_BUCKETS)\n",
    "    buckets = np.linspace(func.x_min, func.x_max, NUM_BUCKETS + 1)\n",
    "    for i in range(num_samples):\n",
    "        #generate data: TODO-non uniform\n",
    "        data_X = np.random.uniform(func.x_min, func.x_max, size = (data_amt, 1))\n",
    "        data_Y = np.array([func.sample(p) for p in data_X])\n",
    "\n",
    "        fs_rew = GP.FS(T, func, data_X, data_Y, kernel, beta)\n",
    "\n",
    "        if(AR_type[0] == 0): #level set\n",
    "            ar_rew, data_left = GP.AR_lvl_set(T, func, data_X, data_Y, kernel, beta, AR_type[1])\n",
    "        elif(AR_type[0] == 1): #fixed data radius\n",
    "            ar_rew, data_left = GP.AR_rad(T, func, data_X, data_Y, kernel, beta, AR_type[1])\n",
    "        else:\n",
    "            pass      \n",
    "    \n",
    "        regret_vecs[0][i] = np.cumsum(func.opt - np.array(fs_rew))\n",
    "        regret_vecs[1][i] = np.cumsum(func.opt - np.array(ar_rew))\n",
    "        hist, _ = np.histogram(data_left, buckets)\n",
    "        data_rem = data_rem + hist\n",
    "        \n",
    "        if(print_upd and ((i+1)%(print_intvl) == 0)):\n",
    "            whitespace = \" \" * 20\n",
    "            print(\"Task #\" +str(idnum) + \":\" + str(task) + \" is \" + str((i+1)/num_samples*100) + \"% completed.\" + whitespace , end='\\r')\n",
    "    \n",
    "    avgs = np.mean(regret_vecs, axis=1)\n",
    "    lower_CBs = avgs-2*np.std(regret_vecs,axis=1)/np.sqrt(num_samples)\n",
    "    upper_CBs = avgs+2*np.std(regret_vecs,axis=1)/np.sqrt(num_samples)\n",
    "        \n",
    "    fs_row = [str(task)] + list(avgs[0]) + list(lower_CBs[0]) + list(upper_CBs[0])\n",
    "    ar_row = [str(task)] + list(avgs[1]) + list(lower_CBs[1]) + list(upper_CBs[1])\n",
    "\n",
    "    df_cols = [\"Params\"]\n",
    "    c = list(range(1, T + 1))\n",
    "    df_cols = df_cols + c + [\"low_\"+str(n) for n in c] + [\"high_\"+str(n) for n in c]\n",
    "\n",
    "    fs_df= pd.DataFrame(columns = df_cols)\n",
    "    fs_df.loc[0] = fs_row\n",
    "    ar_df= pd.DataFrame(columns = df_cols)\n",
    "    ar_df.loc[0] = ar_row\n",
    "    fs_df.to_csv(\"temp/fs_task\"+str(idnum)+\".csv\")\n",
    "    ar_df.to_csv(\"temp/ar_task\"+str(idnum)+\".csv\")"
   ]
  },
  {
   "cell_type": "code",
   "execution_count": 90,
   "id": "b344e664-c84e-401b-9459-4020f2f7d7fa",
   "metadata": {},
   "outputs": [],
   "source": [
    "#fixed hyperparams\n",
    "beta = 10\n",
    "len_scale = 10"
   ]
  },
  {
   "cell_type": "code",
   "execution_count": 91,
   "id": "42aa11e6-9857-4a03-ad06-016b7002326c",
   "metadata": {},
   "outputs": [],
   "source": [
    "#simulation params\n",
    "T = 5000 #simulation horizon\n",
    "num_samples = 20000\n",
    "#different ways of data distribution across sample space\n",
    "data_dists = [0] #0-uniform,\n",
    "functions = [[0, 0.5, 1, 1/20]] #0-single peak, 1-bimodal, 2-?\n",
    "data_amt_list = np.arange(0, 155, 15) #total number of data points (16)\n",
    "AR_types = [[0, x] for x in [0.25, 0.5, 1, 2, 4]] + [[1, x] for x in [0.05, 0.1, 0.2, 0.4]] #0-level set, 1-bandwidth\n",
    "\n",
    "#generate tasks\n",
    "tasks = [[T, func, AR_type, data_amt, data_dist, num_samples, [len_scale, beta]] \n",
    "         for func in functions for AR_type in AR_types for data_amt in data_amt_list for data_dist in data_dists]\n",
    "info = [(i, tasks[i]) for i in range(len(tasks))]"
   ]
  },
  {
   "cell_type": "code",
   "execution_count": 92,
   "id": "044158c3-fa53-4c7f-aff1-2c3078976a06",
   "metadata": {},
   "outputs": [],
   "source": [
    "#simulation params\n",
    "T = 200 #simulation horizon\n",
    "num_samples = 10\n",
    "#different ways of data distribution across sample space\n",
    "data_dists = [0] #0-uniform,\n",
    "functions = [[0, 0.5, 1, 1/20]] #0-single peak, 1-bimodal, 2-?\n",
    "data_amt_list = [25] #total number of data points (16)\n",
    "AR_types = [[0, 2]] #0-level set, 1-bandwidth\n",
    "\n",
    "#generate tasks\n",
    "tasks = [[T, func, AR_type, data_amt, data_dist, num_samples, [len_scale, beta]] \n",
    "         for func in functions for AR_type in AR_types for data_amt in data_amt_list for data_dist in data_dists]\n",
    "info = [(i, tasks[i]) for i in range(len(tasks))]"
   ]
  },
  {
   "cell_type": "code",
   "execution_count": 94,
   "id": "eae39074-edae-4eba-97b1-6e12399c3b8d",
   "metadata": {},
   "outputs": [
    {
     "data": {
      "application/vnd.jupyter.widget-view+json": {
       "model_id": "",
       "version_major": 2,
       "version_minor": 0
      },
      "text/plain": [
       "  0%|          | 0/200 [00:00<?, ?it/s]"
      ]
     },
     "metadata": {},
     "output_type": "display_data"
    },
    {
     "data": {
      "application/vnd.jupyter.widget-view+json": {
       "model_id": "",
       "version_major": 2,
       "version_minor": 0
      },
      "text/plain": [
       "  0%|          | 0/200 [00:00<?, ?it/s]"
      ]
     },
     "metadata": {},
     "output_type": "display_data"
    },
    {
     "data": {
      "application/vnd.jupyter.widget-view+json": {
       "model_id": "",
       "version_major": 2,
       "version_minor": 0
      },
      "text/plain": [
       "  0%|          | 0/200 [00:00<?, ?it/s]"
      ]
     },
     "metadata": {},
     "output_type": "display_data"
    },
    {
     "data": {
      "application/vnd.jupyter.widget-view+json": {
       "model_id": "",
       "version_major": 2,
       "version_minor": 0
      },
      "text/plain": [
       "  0%|          | 0/200 [00:00<?, ?it/s]"
      ]
     },
     "metadata": {},
     "output_type": "display_data"
    },
    {
     "data": {
      "application/vnd.jupyter.widget-view+json": {
       "model_id": "",
       "version_major": 2,
       "version_minor": 0
      },
      "text/plain": [
       "  0%|          | 0/200 [00:00<?, ?it/s]"
      ]
     },
     "metadata": {},
     "output_type": "display_data"
    },
    {
     "data": {
      "application/vnd.jupyter.widget-view+json": {
       "model_id": "",
       "version_major": 2,
       "version_minor": 0
      },
      "text/plain": [
       "  0%|          | 0/200 [00:00<?, ?it/s]"
      ]
     },
     "metadata": {},
     "output_type": "display_data"
    },
    {
     "data": {
      "application/vnd.jupyter.widget-view+json": {
       "model_id": "",
       "version_major": 2,
       "version_minor": 0
      },
      "text/plain": [
       "  0%|          | 0/200 [00:00<?, ?it/s]"
      ]
     },
     "metadata": {},
     "output_type": "display_data"
    },
    {
     "data": {
      "application/vnd.jupyter.widget-view+json": {
       "model_id": "",
       "version_major": 2,
       "version_minor": 0
      },
      "text/plain": [
       "  0%|          | 0/200 [00:00<?, ?it/s]"
      ]
     },
     "metadata": {},
     "output_type": "display_data"
    },
    {
     "data": {
      "application/vnd.jupyter.widget-view+json": {
       "model_id": "",
       "version_major": 2,
       "version_minor": 0
      },
      "text/plain": [
       "  0%|          | 0/200 [00:00<?, ?it/s]"
      ]
     },
     "metadata": {},
     "output_type": "display_data"
    },
    {
     "data": {
      "application/vnd.jupyter.widget-view+json": {
       "model_id": "",
       "version_major": 2,
       "version_minor": 0
      },
      "text/plain": [
       "  0%|          | 0/200 [00:00<?, ?it/s]"
      ]
     },
     "metadata": {},
     "output_type": "display_data"
    }
   ],
   "source": [
    "GP_sim_wrapper(info[0], print_upd = False)"
   ]
  },
  {
   "cell_type": "code",
   "execution_count": null,
   "id": "cad1ae8d-b5ad-4dd3-948c-9965c5eb4cfa",
   "metadata": {},
   "outputs": [],
   "source": []
  },
  {
   "cell_type": "code",
   "execution_count": null,
   "id": "02a2e990-4261-47a5-9ee4-10e745375d3c",
   "metadata": {},
   "outputs": [],
   "source": []
  },
  {
   "cell_type": "code",
   "execution_count": null,
   "id": "4778ac2a-2694-4cf9-ad4a-2cd58feb653f",
   "metadata": {},
   "outputs": [],
   "source": []
  }
 ],
 "metadata": {
  "kernelspec": {
   "display_name": "Python 3 (ipykernel)",
   "language": "python",
   "name": "python3"
  },
  "language_info": {
   "codemirror_mode": {
    "name": "ipython",
    "version": 3
   },
   "file_extension": ".py",
   "mimetype": "text/x-python",
   "name": "python",
   "nbconvert_exporter": "python",
   "pygments_lexer": "ipython3",
   "version": "3.11.4"
  }
 },
 "nbformat": 4,
 "nbformat_minor": 5
}
