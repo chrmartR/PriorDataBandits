{
 "cells": [
  {
   "cell_type": "code",
   "execution_count": 2,
   "id": "e1d8b278-17a3-4037-be1f-a3da725c51a5",
   "metadata": {},
   "outputs": [],
   "source": [
    "import numpy as np\n",
    "import pandas as pd\n",
    "import matplotlib.pyplot as plt\n",
    "import multiprocess as mp\n",
    "import time\n",
    "from helpers.GPTS_Kernels import RBFKernel\n",
    "import helpers.GP_opt_sims as GP"
   ]
  },
  {
   "cell_type": "code",
   "execution_count": 2,
   "id": "316d9621-dbbc-4f2e-899d-679f776fad8e",
   "metadata": {},
   "outputs": [],
   "source": [
    "def GP_sim_wrapper(info, print_upd = True): \n",
    "    import numpy as np\n",
    "    from helpers.GPTS_Kernels import RBFKernel\n",
    "    import helpers.GP_opt_sims as GP\n",
    "    import pandas as pd\n",
    "    \n",
    "    def genFunc(func_info, beta):\n",
    "        if(func_info[0] == 0):\n",
    "            _, m, o, l = func_info\n",
    "            truef = lambda x: o * np.exp(-(x-m)*(x-m)/l)\n",
    "            return GP.GPFunction(truef, 1/beta, [0, 1], [m, o])\n",
    "    \n",
    "    idnum, task = info\n",
    "    T, func_info, AR_type, data_amt, data_dist, num_samples, gpr_data = task\n",
    "    len_scale, beta = gpr_data\n",
    "\n",
    "    kernel = RBFKernel(len_scale)\n",
    "    func = genFunc(func_info, beta)\n",
    "\n",
    "    PERC_FREQ = 0.1\n",
    "    print_intvl = int(num_samples*PERC_FREQ/100)\n",
    "    print_intvl = print_intvl if print_intvl > 0 else 1\n",
    "\n",
    "    regret_vecs = [np.zeros((num_samples, T)) for _ in range(2)]\n",
    "    NUM_BUCKETS = 50\n",
    "    data_rem = np.zeros(NUM_BUCKETS)\n",
    "    buckets = np.linspace(func.x_min, func.x_max, NUM_BUCKETS + 1)\n",
    "    for i in range(num_samples):\n",
    "        #generate data: TODO-non uniform\n",
    "        data_X = np.random.uniform(func.x_min, func.x_max, size = (data_amt, 1))\n",
    "        data_Y = np.array([func.sample(p) for p in data_X])\n",
    "\n",
    "        fs_rew = GP.FS(T, func, data_X, data_Y, kernel, beta)\n",
    "\n",
    "        if(AR_type[0] == 0): #level set\n",
    "            ar_rew, data_left = GP.AR_lvl_set(T, func, data_X, data_Y, kernel, beta, AR_type[1])\n",
    "        elif(AR_type[0] == 1): #fixed data radius\n",
    "            ar_rew, data_left = GP.AR_rad(T, func, data_X, data_Y, kernel, beta, AR_type[1])\n",
    "        else:\n",
    "            pass      \n",
    "    \n",
    "        regret_vecs[0][i] = np.cumsum(func.opt - np.array(fs_rew))\n",
    "        regret_vecs[1][i] = np.cumsum(func.opt - np.array(ar_rew))\n",
    "        hist, _ = np.histogram(data_left, buckets)\n",
    "        data_rem = data_rem + hist\n",
    "        \n",
    "        if(print_upd and ((i+1)%(print_intvl) == 0)):\n",
    "            whitespace = \" \" * 20\n",
    "            print(\"Task #\" +str(idnum) + \":\" + str(task) + \" is \" + str((i+1)/num_samples*100) + \"% completed.\" + whitespace , end='\\r')\n",
    "    \n",
    "    avgs = np.mean(regret_vecs, axis=1)\n",
    "    lower_CBs = avgs-2*np.std(regret_vecs,axis=1)/np.sqrt(num_samples)\n",
    "    upper_CBs = avgs+2*np.std(regret_vecs,axis=1)/np.sqrt(num_samples)\n",
    "    data_rem /= num_samples\n",
    "        \n",
    "    fs_row = [str(task)] + list(avgs[0]) + list(lower_CBs[0]) + list(upper_CBs[0])\n",
    "    ar_row = [str(task)] + list(avgs[1]) + list(lower_CBs[1]) + list(upper_CBs[1])\n",
    "\n",
    "    df_cols = [\"Params\"]\n",
    "    c = list(range(1, T + 1))\n",
    "    df_cols = df_cols + c + [\"low_\"+str(n) for n in c] + [\"high_\"+str(n) for n in c]\n",
    "\n",
    "    fs_df= pd.DataFrame(columns = df_cols)\n",
    "    fs_df.loc[0] = fs_row\n",
    "    ar_df= pd.DataFrame(columns = df_cols)\n",
    "    ar_df.loc[0] = ar_row\n",
    "    fs_df.to_csv(\"temp/fs_task\"+str(idnum)+\".csv\")\n",
    "    ar_df.to_csv(\"temp/ar_task\"+str(idnum)+\".csv\")\n",
    "    data_df = pd.DataFrame(data_rem)\n",
    "    data_df.to_csv(\"temp/ar_data_task\"+str(idnum)+\".csv\")\n",
    "    return 1"
   ]
  },
  {
   "cell_type": "code",
   "execution_count": 3,
   "id": "b344e664-c84e-401b-9459-4020f2f7d7fa",
   "metadata": {},
   "outputs": [],
   "source": [
    "#fixed hyperparams\n",
    "beta = 5\n",
    "len_scale = 50"
   ]
  },
  {
   "cell_type": "code",
   "execution_count": 4,
   "id": "42aa11e6-9857-4a03-ad06-016b7002326c",
   "metadata": {},
   "outputs": [
    {
     "data": {
      "text/plain": [
       "24"
      ]
     },
     "execution_count": 4,
     "metadata": {},
     "output_type": "execute_result"
    }
   ],
   "source": [
    "#simulation params\n",
    "T = 500 #simulation horizon\n",
    "num_samples = 250\n",
    "#different ways of data distribution across sample space\n",
    "data_dists = [0] #0-uniform,\n",
    "functions = [[0, 0.5, 2, 1/50]] #0-single peak, 1-bimodal, 2-?\n",
    "data_amt_list = np.arange(30, 100, 30) #total number of data points (16)\n",
    "AR_types = [[0, x] for x in [0.5, 1, 2, 4]] + [[1, x] for x in [0.05, 0.1, 0.2, 0.4]] #0-level set, 1-bandwidth\n",
    "\n",
    "#generate tasks\n",
    "tasks = [[T, func, AR_type, data_amt, data_dist, num_samples, [len_scale, beta]] \n",
    "         for func in functions for AR_type in AR_types for data_amt in data_amt_list for data_dist in data_dists]\n",
    "info = [(i, tasks[i]) for i in range(len(tasks))]\n",
    "len(info)"
   ]
  },
  {
   "cell_type": "code",
   "execution_count": 7,
   "id": "eae39074-edae-4eba-97b1-6e12399c3b8d",
   "metadata": {},
   "outputs": [
    {
     "ename": "IndexError",
     "evalue": "invalid index to scalar variable.",
     "output_type": "error",
     "traceback": [
      "\u001b[1;31m---------------------------------------------------------------------------\u001b[0m",
      "\u001b[1;31mRemoteTraceback\u001b[0m                           Traceback (most recent call last)",
      "\u001b[1;31mRemoteTraceback\u001b[0m: \n\"\"\"\nTraceback (most recent call last):\n  File \"C:\\Users\\Chris's PC\\AppData\\Local\\Programs\\Python\\Python312\\Lib\\site-packages\\multiprocess\\pool.py\", line 125, in worker\n    result = (True, func(*args, **kwds))\n                    ^^^^^^^^^^^^^^^^^^^\n  File \"C:\\Users\\Chris's PC\\AppData\\Local\\Programs\\Python\\Python312\\Lib\\site-packages\\multiprocess\\pool.py\", line 48, in mapstar\n    return list(map(*args))\n           ^^^^^^^^^^^^^^^^\n  File \"C:\\Users\\Chris's PC\\AppData\\Local\\Temp\\ipykernel_17864\\776285301.py\", line 38, in GP_sim_wrapper\n  File \"C:\\Users\\Chris's PC\\Desktop\\Code\\PriorDataBandits\\code\\helpers\\GP_opt_sims.py\", line 153, in AR_rad\n    newX = data_X[closest_idx][0]\n           ~~~~~~~~~~~~~~~~~~~^^^\nIndexError: invalid index to scalar variable.\n\"\"\"",
      "\nThe above exception was the direct cause of the following exception:\n",
      "\u001b[1;31mIndexError\u001b[0m                                Traceback (most recent call last)",
      "Cell \u001b[1;32mIn[7], line 3\u001b[0m\n\u001b[0;32m      1\u001b[0m start \u001b[38;5;241m=\u001b[39m time\u001b[38;5;241m.\u001b[39mtime()\n\u001b[0;32m      2\u001b[0m p \u001b[38;5;241m=\u001b[39m mp\u001b[38;5;241m.\u001b[39mPool(\u001b[38;5;241m12\u001b[39m)\n\u001b[1;32m----> 3\u001b[0m results \u001b[38;5;241m=\u001b[39m \u001b[43mp\u001b[49m\u001b[38;5;241;43m.\u001b[39;49m\u001b[43mmap\u001b[49m\u001b[43m(\u001b[49m\u001b[43mGP_sim_wrapper\u001b[49m\u001b[43m,\u001b[49m\u001b[43m \u001b[49m\u001b[43minfo\u001b[49m\u001b[43m)\u001b[49m\n\u001b[0;32m      4\u001b[0m \u001b[38;5;28mprint\u001b[39m()\n\u001b[0;32m      5\u001b[0m \u001b[38;5;28mprint\u001b[39m(time\u001b[38;5;241m.\u001b[39mtime()\u001b[38;5;241m-\u001b[39mstart)\n",
      "File \u001b[1;32m~\\AppData\\Local\\Programs\\Python\\Python312\\Lib\\site-packages\\multiprocess\\pool.py:367\u001b[0m, in \u001b[0;36mPool.map\u001b[1;34m(self, func, iterable, chunksize)\u001b[0m\n\u001b[0;32m    362\u001b[0m \u001b[38;5;28;01mdef\u001b[39;00m \u001b[38;5;21mmap\u001b[39m(\u001b[38;5;28mself\u001b[39m, func, iterable, chunksize\u001b[38;5;241m=\u001b[39m\u001b[38;5;28;01mNone\u001b[39;00m):\n\u001b[0;32m    363\u001b[0m \u001b[38;5;250m    \u001b[39m\u001b[38;5;124;03m'''\u001b[39;00m\n\u001b[0;32m    364\u001b[0m \u001b[38;5;124;03m    Apply `func` to each element in `iterable`, collecting the results\u001b[39;00m\n\u001b[0;32m    365\u001b[0m \u001b[38;5;124;03m    in a list that is returned.\u001b[39;00m\n\u001b[0;32m    366\u001b[0m \u001b[38;5;124;03m    '''\u001b[39;00m\n\u001b[1;32m--> 367\u001b[0m     \u001b[38;5;28;01mreturn\u001b[39;00m \u001b[38;5;28;43mself\u001b[39;49m\u001b[38;5;241;43m.\u001b[39;49m\u001b[43m_map_async\u001b[49m\u001b[43m(\u001b[49m\u001b[43mfunc\u001b[49m\u001b[43m,\u001b[49m\u001b[43m \u001b[49m\u001b[43miterable\u001b[49m\u001b[43m,\u001b[49m\u001b[43m \u001b[49m\u001b[43mmapstar\u001b[49m\u001b[43m,\u001b[49m\u001b[43m \u001b[49m\u001b[43mchunksize\u001b[49m\u001b[43m)\u001b[49m\u001b[38;5;241;43m.\u001b[39;49m\u001b[43mget\u001b[49m\u001b[43m(\u001b[49m\u001b[43m)\u001b[49m\n",
      "File \u001b[1;32m~\\AppData\\Local\\Programs\\Python\\Python312\\Lib\\site-packages\\multiprocess\\pool.py:774\u001b[0m, in \u001b[0;36mApplyResult.get\u001b[1;34m(self, timeout)\u001b[0m\n\u001b[0;32m    772\u001b[0m     \u001b[38;5;28;01mreturn\u001b[39;00m \u001b[38;5;28mself\u001b[39m\u001b[38;5;241m.\u001b[39m_value\n\u001b[0;32m    773\u001b[0m \u001b[38;5;28;01melse\u001b[39;00m:\n\u001b[1;32m--> 774\u001b[0m     \u001b[38;5;28;01mraise\u001b[39;00m \u001b[38;5;28mself\u001b[39m\u001b[38;5;241m.\u001b[39m_value\n",
      "\u001b[1;31mIndexError\u001b[0m: invalid index to scalar variable."
     ]
    }
   ],
   "source": [
    "start = time.time()\n",
    "p = mp.Pool(12)\n",
    "results = p.map(GP_sim_wrapper, info)\n",
    "print()\n",
    "print(time.time()-start)"
   ]
  },
  {
   "cell_type": "code",
   "execution_count": 18,
   "id": "cad1ae8d-b5ad-4dd3-948c-9965c5eb4cfa",
   "metadata": {},
   "outputs": [],
   "source": [
    "T=500\n",
    "df_cols = [\"Params\"]\n",
    "c = list(range(1, T + 1))\n",
    "strc = [str(n) for n in c]\n",
    "df_cols = df_cols + strc + [\"low_\"+n for n in strc] + [\"high_\"+n for n in strc]\n",
    "fs_df= pd.DataFrame(columns = df_cols)\n",
    "ar_df= pd.DataFrame(columns = df_cols)\n",
    "#for idnum, _ in info:\n",
    "for idnum in range(12):\n",
    "    fs_df_task = pd.read_csv(\"temp/fs_task\"+str(idnum)+\".csv\", index_col=0)\n",
    "    ar_df_task = pd.read_csv(\"temp/ar_task\"+str(idnum)+\".csv\", index_col=0)\n",
    "    fs_df.loc[idnum] = fs_df_task.loc[0]\n",
    "    ar_df.loc[idnum] = fs_df_task.loc[0]\n",
    "fs_df.to_csv(\"GP_fs_df.csv\")\n",
    "ar_df.to_csv(\"GP_ar_df.csv\")"
   ]
  },
  {
   "cell_type": "code",
   "execution_count": 3,
   "id": "4778ac2a-2694-4cf9-ad4a-2cd58feb653f",
   "metadata": {},
   "outputs": [
    {
     "ename": "NameError",
     "evalue": "name 'fs_df' is not defined",
     "output_type": "error",
     "traceback": [
      "\u001b[1;31m---------------------------------------------------------------------------\u001b[0m",
      "\u001b[1;31mNameError\u001b[0m                                 Traceback (most recent call last)",
      "Cell \u001b[1;32mIn[3], line 1\u001b[0m\n\u001b[1;32m----> 1\u001b[0m plt\u001b[38;5;241m.\u001b[39mplot(\u001b[43mfs_df\u001b[49m[strc]\u001b[38;5;241m.\u001b[39mloc[\u001b[38;5;241m8\u001b[39m])\n",
      "\u001b[1;31mNameError\u001b[0m: name 'fs_df' is not defined"
     ]
    }
   ],
   "source": [
    "plt.plot(fs_df[strc].loc[8])"
   ]
  },
  {
   "cell_type": "code",
   "execution_count": null,
   "id": "974221d1-4693-467e-ac8f-b6215ce432c5",
   "metadata": {},
   "outputs": [],
   "source": []
  }
 ],
 "metadata": {
  "kernelspec": {
   "display_name": "Python 3 (ipykernel)",
   "language": "python",
   "name": "python3"
  },
  "language_info": {
   "codemirror_mode": {
    "name": "ipython",
    "version": 3
   },
   "file_extension": ".py",
   "mimetype": "text/x-python",
   "name": "python",
   "nbconvert_exporter": "python",
   "pygments_lexer": "ipython3",
   "version": "3.12.7"
  }
 },
 "nbformat": 4,
 "nbformat_minor": 5
}
