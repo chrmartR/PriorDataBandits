{
 "cells": [
  {
   "cell_type": "code",
   "execution_count": 7,
   "id": "ff684363-e924-435d-b7ef-34b81bc207f8",
   "metadata": {},
   "outputs": [],
   "source": [
    "import numpy as np\n",
    "import pandas as pd\n",
    "from tqdm.notebook import tqdm\n",
    "import helpers.mab_bernoulli as brn\n",
    "import matplotlib.pyplot as plt\n",
    "import threading"
   ]
  },
  {
   "cell_type": "code",
   "execution_count": 28,
   "id": "496a8b42-3c26-44d3-97fe-7da3a95c01f3",
   "metadata": {},
   "outputs": [],
   "source": [
    "class bigsim_threaded():\n",
    "    def __init__(self, T, K_list, delta_list, data_amt_list, num_samples):\n",
    "        self.T = T\n",
    "        self.tasks = [[K, delta, data_amt] for K in K_list for delta in delta_list for data_amt in data_amt_list]\n",
    "        self.num_samples = num_samples\n",
    "        self.next_task = 0\n",
    "        self.task_lock = threading.Lock()\n",
    "        self.df_lock = threading.Lock()\n",
    "\n",
    "    def gen_dfs(self):\n",
    "        df_cols = [\"NumArms\", \"ArmGap\", \"ArmData\", \"NumSamples\"]\n",
    "        c = list(range(1, self.T + 1))\n",
    "        df_cols = df_cols + c + [\"low_\"+str(n) for n in c] + [\"high_\"+str(n) for n in c]\n",
    "        self.fs_df = pd.DataFrame(columns=df_cols)\n",
    "        self.ar_df = pd.DataFrame(columns=df_cols)\n",
    "\n",
    "    def load_dfs(self, fs_df, ar_df):\n",
    "        self.fs_df = fs_df\n",
    "        self.ar_df = ar_df\n",
    "    \n",
    "    def single_sim_wrapper(self, K, delta, data_amt):      \n",
    "        arms = [0.5 - delta/2 for _ in range(K-1)]\n",
    "        opt_mean = 0.5 + delta / 2\n",
    "        arms.append(opt_mean)\n",
    "\n",
    "        regret_vecs = [np.zeros((self.num_samples, self.T)) for _ in range(2)]\n",
    "        for i in tqdm(range(self.num_samples), leave = False):\n",
    "            arm_data = [brn.gen_data(arms[i], data_amt) for i in range(K)]\n",
    "            fs_rewards = brn.FS_path(self.T, arms, brn.flat_priors(K), arm_data)\n",
    "            ar_rewards = brn.AR_path(self.T, arms, brn.flat_priors(K), arm_data)\n",
    "    \n",
    "            fs_regrets = opt_mean - np.array(fs_rewards)\n",
    "            ar_regrets = opt_mean - np.array(ar_rewards)\n",
    "    \n",
    "            regret_vecs[0][i] = np.cumsum(fs_regrets)\n",
    "            regret_vecs[1][i] = np.cumsum(ar_regrets)\n",
    "    \n",
    "        avgs = np.mean(regret_vecs, axis=1)\n",
    "        lower_CBs = avgs-2*np.std(regret_vecs,axis=1)/np.sqrt(self.num_samples)\n",
    "        upper_CBs = avgs+2*np.std(regret_vecs,axis=1)/np.sqrt(self.num_samples)\n",
    "        \n",
    "        with self.df_lock:\n",
    "            self.fs_df.loc[len(fs_df)] = [K, delta, data_amt, self.num_samples] + list(avgs[0]) + list(lower_CBs[0]) + list(upper_CBs[0])\n",
    "            self.ar_df.loc[len(ar_df)] = [K, delta, data_amt, self.num_samples] + list(avgs[1]) + list(lower_CBs[1]) + list(upper_CBs[1])\n",
    "\n",
    "    def get_new_task(self):\n",
    "        if(self.next_task >= len(self.tasks)):\n",
    "            return None\n",
    "        with self.task_lock:\n",
    "            next_task_attr = self.tasks[self.next_task]\n",
    "            self.next_task += 1\n",
    "            print(\"starting next task #\" + str(self.next_task) + \": \" + str(next_task_attr))\n",
    "        return next_task_attr\n",
    "\n",
    "    def complete_tasks(self):\n",
    "        task_attr = self.get_new_task()\n",
    "        while task_attr is not None:\n",
    "            self.single_sim_wrapper(task_attr[0], task_attr[1], task_attr[2])\n",
    "            task_attr = self.get_new_task()\n",
    "            \n",
    "    def save_dfs(self):\n",
    "        self.fs_df.to_csv(\"bern_fs_df.csv\")\n",
    "        self.ar_df.to_csv(\"bern_ar_df.csv\")"
   ]
  },
  {
   "cell_type": "code",
   "execution_count": 24,
   "id": "70f74958-ec85-4bdb-93ee-ff5440457141",
   "metadata": {},
   "outputs": [],
   "source": [
    "#parameter listing\n",
    "T = 200 #simulation horizon\n",
    "K_list = np.arange(2, 5, 2) #number of arms\n",
    "delta_list = [0.2, 0.3] #reward gap between best and worst arms\n",
    "data_amt_list = np.arange(20, 30, 5) #number of data points per arm\n",
    "num_samples = 100\n",
    "bst = bigsim_threaded(T, K_list, delta_list, data_amt_list, num_samples)\n",
    "bst.gen_dfs()\n",
    "num_threads = 9\n",
    "threads = [threading.Thread(target=bst.complete_tasks, args=()) for _ in range(num_threads)]"
   ]
  },
  {
   "cell_type": "code",
   "execution_count": 25,
   "id": "c11ea2d8-0c57-4812-8120-23ca3713698d",
   "metadata": {},
   "outputs": [
    {
     "name": "stdout",
     "output_type": "stream",
     "text": [
      "starting next task #1: [2, 0.2, 20]\n",
      "starting next task #2: [2, 0.2, 25]\n",
      "starting next task #3: [2, 0.3, 20]\n",
      "starting next task #4: [2, 0.3, 25]\n",
      "starting next task #5: [4, 0.2, 20]\n",
      "starting next task #6: [4, 0.2, 25]\n",
      "starting next task #7: [4, 0.3, 20]\n",
      "starting next task #8: [4, 0.3, 25]\n"
     ]
    },
    {
     "data": {
      "application/vnd.jupyter.widget-view+json": {
       "model_id": "",
       "version_major": 2,
       "version_minor": 0
      },
      "text/plain": [
       "  0%|          | 0/100 [00:00<?, ?it/s]"
      ]
     },
     "metadata": {},
     "output_type": "display_data"
    },
    {
     "data": {
      "application/vnd.jupyter.widget-view+json": {
       "model_id": "",
       "version_major": 2,
       "version_minor": 0
      },
      "text/plain": [
       "  0%|          | 0/100 [00:00<?, ?it/s]"
      ]
     },
     "metadata": {},
     "output_type": "display_data"
    },
    {
     "data": {
      "application/vnd.jupyter.widget-view+json": {
       "model_id": "",
       "version_major": 2,
       "version_minor": 0
      },
      "text/plain": [
       "  0%|          | 0/100 [00:00<?, ?it/s]"
      ]
     },
     "metadata": {},
     "output_type": "display_data"
    },
    {
     "data": {
      "application/vnd.jupyter.widget-view+json": {
       "model_id": "",
       "version_major": 2,
       "version_minor": 0
      },
      "text/plain": [
       "  0%|          | 0/100 [00:00<?, ?it/s]"
      ]
     },
     "metadata": {},
     "output_type": "display_data"
    },
    {
     "data": {
      "application/vnd.jupyter.widget-view+json": {
       "model_id": "",
       "version_major": 2,
       "version_minor": 0
      },
      "text/plain": [
       "  0%|          | 0/100 [00:00<?, ?it/s]"
      ]
     },
     "metadata": {},
     "output_type": "display_data"
    },
    {
     "data": {
      "application/vnd.jupyter.widget-view+json": {
       "model_id": "",
       "version_major": 2,
       "version_minor": 0
      },
      "text/plain": [
       "  0%|          | 0/100 [00:00<?, ?it/s]"
      ]
     },
     "metadata": {},
     "output_type": "display_data"
    },
    {
     "data": {
      "application/vnd.jupyter.widget-view+json": {
       "model_id": "",
       "version_major": 2,
       "version_minor": 0
      },
      "text/plain": [
       "  0%|          | 0/100 [00:00<?, ?it/s]"
      ]
     },
     "metadata": {},
     "output_type": "display_data"
    },
    {
     "data": {
      "application/vnd.jupyter.widget-view+json": {
       "model_id": "",
       "version_major": 2,
       "version_minor": 0
      },
      "text/plain": [
       "  0%|          | 0/100 [00:00<?, ?it/s]"
      ]
     },
     "metadata": {},
     "output_type": "display_data"
    }
   ],
   "source": [
    "for t in threads:\n",
    "    t.start()\n",
    "for t in threads:\n",
    "    t.join()\n",
    "    "
   ]
  },
  {
   "cell_type": "code",
   "execution_count": null,
   "id": "0c099efd-b6a8-4ce1-beab-31923a117c5e",
   "metadata": {},
   "outputs": [],
   "source": []
  }
 ],
 "metadata": {
  "kernelspec": {
   "display_name": "Python 3 (ipykernel)",
   "language": "python",
   "name": "python3"
  },
  "language_info": {
   "codemirror_mode": {
    "name": "ipython",
    "version": 3
   },
   "file_extension": ".py",
   "mimetype": "text/x-python",
   "name": "python",
   "nbconvert_exporter": "python",
   "pygments_lexer": "ipython3",
   "version": "3.11.4"
  }
 },
 "nbformat": 4,
 "nbformat_minor": 5
}
